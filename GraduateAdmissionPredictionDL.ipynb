{
  "nbformat": 4,
  "nbformat_minor": 0,
  "metadata": {
    "colab": {
      "provenance": [],
      "collapsed_sections": []
    },
    "kernelspec": {
      "name": "python3",
      "display_name": "Python 3"
    },
    "language_info": {
      "name": "python"
    }
  },
  "cells": [
    {
      "cell_type": "code",
      "execution_count": 112,
      "metadata": {
        "id": "NWF0Jl78845L"
      },
      "outputs": [],
      "source": [
        "import pandas as pd\n",
        "import numpy as np\n",
        "import matplotlib.pyplot as plt\n",
        "import tensorflow\n",
        "from tensorflow.keras import Sequential\n",
        "from tensorflow.keras.layers import Dense "
      ]
    },
    {
      "cell_type": "code",
      "source": [
        "traindf = pd.read_csv('/content/Admission_Predict.csv')"
      ],
      "metadata": {
        "id": "aKl9Co4t953w"
      },
      "execution_count": 113,
      "outputs": []
    },
    {
      "cell_type": "code",
      "source": [
        "traindf.head()"
      ],
      "metadata": {
        "colab": {
          "base_uri": "https://localhost:8080/",
          "height": 206
        },
        "id": "yfJogV4t-MtX",
        "outputId": "3aaa4d1f-97e5-4ff1-b98a-84eb191d69af"
      },
      "execution_count": 114,
      "outputs": [
        {
          "output_type": "execute_result",
          "data": {
            "text/plain": [
              "   Serial No.  GRE Score  TOEFL Score  University Rating  SOP  LOR   CGPA  \\\n",
              "0           1        337          118                  4  4.5   4.5  9.65   \n",
              "1           2        324          107                  4  4.0   4.5  8.87   \n",
              "2           3        316          104                  3  3.0   3.5  8.00   \n",
              "3           4        322          110                  3  3.5   2.5  8.67   \n",
              "4           5        314          103                  2  2.0   3.0  8.21   \n",
              "\n",
              "   Research  Chance of Admit   \n",
              "0         1              0.92  \n",
              "1         1              0.76  \n",
              "2         1              0.72  \n",
              "3         1              0.80  \n",
              "4         0              0.65  "
            ],
            "text/html": [
              "\n",
              "  <div id=\"df-1a8fb7cf-5a52-440b-96be-89c25d4787e9\">\n",
              "    <div class=\"colab-df-container\">\n",
              "      <div>\n",
              "<style scoped>\n",
              "    .dataframe tbody tr th:only-of-type {\n",
              "        vertical-align: middle;\n",
              "    }\n",
              "\n",
              "    .dataframe tbody tr th {\n",
              "        vertical-align: top;\n",
              "    }\n",
              "\n",
              "    .dataframe thead th {\n",
              "        text-align: right;\n",
              "    }\n",
              "</style>\n",
              "<table border=\"1\" class=\"dataframe\">\n",
              "  <thead>\n",
              "    <tr style=\"text-align: right;\">\n",
              "      <th></th>\n",
              "      <th>Serial No.</th>\n",
              "      <th>GRE Score</th>\n",
              "      <th>TOEFL Score</th>\n",
              "      <th>University Rating</th>\n",
              "      <th>SOP</th>\n",
              "      <th>LOR</th>\n",
              "      <th>CGPA</th>\n",
              "      <th>Research</th>\n",
              "      <th>Chance of Admit</th>\n",
              "    </tr>\n",
              "  </thead>\n",
              "  <tbody>\n",
              "    <tr>\n",
              "      <th>0</th>\n",
              "      <td>1</td>\n",
              "      <td>337</td>\n",
              "      <td>118</td>\n",
              "      <td>4</td>\n",
              "      <td>4.5</td>\n",
              "      <td>4.5</td>\n",
              "      <td>9.65</td>\n",
              "      <td>1</td>\n",
              "      <td>0.92</td>\n",
              "    </tr>\n",
              "    <tr>\n",
              "      <th>1</th>\n",
              "      <td>2</td>\n",
              "      <td>324</td>\n",
              "      <td>107</td>\n",
              "      <td>4</td>\n",
              "      <td>4.0</td>\n",
              "      <td>4.5</td>\n",
              "      <td>8.87</td>\n",
              "      <td>1</td>\n",
              "      <td>0.76</td>\n",
              "    </tr>\n",
              "    <tr>\n",
              "      <th>2</th>\n",
              "      <td>3</td>\n",
              "      <td>316</td>\n",
              "      <td>104</td>\n",
              "      <td>3</td>\n",
              "      <td>3.0</td>\n",
              "      <td>3.5</td>\n",
              "      <td>8.00</td>\n",
              "      <td>1</td>\n",
              "      <td>0.72</td>\n",
              "    </tr>\n",
              "    <tr>\n",
              "      <th>3</th>\n",
              "      <td>4</td>\n",
              "      <td>322</td>\n",
              "      <td>110</td>\n",
              "      <td>3</td>\n",
              "      <td>3.5</td>\n",
              "      <td>2.5</td>\n",
              "      <td>8.67</td>\n",
              "      <td>1</td>\n",
              "      <td>0.80</td>\n",
              "    </tr>\n",
              "    <tr>\n",
              "      <th>4</th>\n",
              "      <td>5</td>\n",
              "      <td>314</td>\n",
              "      <td>103</td>\n",
              "      <td>2</td>\n",
              "      <td>2.0</td>\n",
              "      <td>3.0</td>\n",
              "      <td>8.21</td>\n",
              "      <td>0</td>\n",
              "      <td>0.65</td>\n",
              "    </tr>\n",
              "  </tbody>\n",
              "</table>\n",
              "</div>\n",
              "      <button class=\"colab-df-convert\" onclick=\"convertToInteractive('df-1a8fb7cf-5a52-440b-96be-89c25d4787e9')\"\n",
              "              title=\"Convert this dataframe to an interactive table.\"\n",
              "              style=\"display:none;\">\n",
              "        \n",
              "  <svg xmlns=\"http://www.w3.org/2000/svg\" height=\"24px\"viewBox=\"0 0 24 24\"\n",
              "       width=\"24px\">\n",
              "    <path d=\"M0 0h24v24H0V0z\" fill=\"none\"/>\n",
              "    <path d=\"M18.56 5.44l.94 2.06.94-2.06 2.06-.94-2.06-.94-.94-2.06-.94 2.06-2.06.94zm-11 1L8.5 8.5l.94-2.06 2.06-.94-2.06-.94L8.5 2.5l-.94 2.06-2.06.94zm10 10l.94 2.06.94-2.06 2.06-.94-2.06-.94-.94-2.06-.94 2.06-2.06.94z\"/><path d=\"M17.41 7.96l-1.37-1.37c-.4-.4-.92-.59-1.43-.59-.52 0-1.04.2-1.43.59L10.3 9.45l-7.72 7.72c-.78.78-.78 2.05 0 2.83L4 21.41c.39.39.9.59 1.41.59.51 0 1.02-.2 1.41-.59l7.78-7.78 2.81-2.81c.8-.78.8-2.07 0-2.86zM5.41 20L4 18.59l7.72-7.72 1.47 1.35L5.41 20z\"/>\n",
              "  </svg>\n",
              "      </button>\n",
              "      \n",
              "  <style>\n",
              "    .colab-df-container {\n",
              "      display:flex;\n",
              "      flex-wrap:wrap;\n",
              "      gap: 12px;\n",
              "    }\n",
              "\n",
              "    .colab-df-convert {\n",
              "      background-color: #E8F0FE;\n",
              "      border: none;\n",
              "      border-radius: 50%;\n",
              "      cursor: pointer;\n",
              "      display: none;\n",
              "      fill: #1967D2;\n",
              "      height: 32px;\n",
              "      padding: 0 0 0 0;\n",
              "      width: 32px;\n",
              "    }\n",
              "\n",
              "    .colab-df-convert:hover {\n",
              "      background-color: #E2EBFA;\n",
              "      box-shadow: 0px 1px 2px rgba(60, 64, 67, 0.3), 0px 1px 3px 1px rgba(60, 64, 67, 0.15);\n",
              "      fill: #174EA6;\n",
              "    }\n",
              "\n",
              "    [theme=dark] .colab-df-convert {\n",
              "      background-color: #3B4455;\n",
              "      fill: #D2E3FC;\n",
              "    }\n",
              "\n",
              "    [theme=dark] .colab-df-convert:hover {\n",
              "      background-color: #434B5C;\n",
              "      box-shadow: 0px 1px 3px 1px rgba(0, 0, 0, 0.15);\n",
              "      filter: drop-shadow(0px 1px 2px rgba(0, 0, 0, 0.3));\n",
              "      fill: #FFFFFF;\n",
              "    }\n",
              "  </style>\n",
              "\n",
              "      <script>\n",
              "        const buttonEl =\n",
              "          document.querySelector('#df-1a8fb7cf-5a52-440b-96be-89c25d4787e9 button.colab-df-convert');\n",
              "        buttonEl.style.display =\n",
              "          google.colab.kernel.accessAllowed ? 'block' : 'none';\n",
              "\n",
              "        async function convertToInteractive(key) {\n",
              "          const element = document.querySelector('#df-1a8fb7cf-5a52-440b-96be-89c25d4787e9');\n",
              "          const dataTable =\n",
              "            await google.colab.kernel.invokeFunction('convertToInteractive',\n",
              "                                                     [key], {});\n",
              "          if (!dataTable) return;\n",
              "\n",
              "          const docLinkHtml = 'Like what you see? Visit the ' +\n",
              "            '<a target=\"_blank\" href=https://colab.research.google.com/notebooks/data_table.ipynb>data table notebook</a>'\n",
              "            + ' to learn more about interactive tables.';\n",
              "          element.innerHTML = '';\n",
              "          dataTable['output_type'] = 'display_data';\n",
              "          await google.colab.output.renderOutput(dataTable, element);\n",
              "          const docLink = document.createElement('div');\n",
              "          docLink.innerHTML = docLinkHtml;\n",
              "          element.appendChild(docLink);\n",
              "        }\n",
              "      </script>\n",
              "    </div>\n",
              "  </div>\n",
              "  "
            ]
          },
          "metadata": {},
          "execution_count": 114
        }
      ]
    },
    {
      "cell_type": "code",
      "source": [
        "traindf.drop(columns=['Serial No.'], inplace=True)"
      ],
      "metadata": {
        "id": "Cr8eaJOj-N_-"
      },
      "execution_count": 115,
      "outputs": []
    },
    {
      "cell_type": "code",
      "source": [
        "traindf.head()"
      ],
      "metadata": {
        "colab": {
          "base_uri": "https://localhost:8080/",
          "height": 206
        },
        "id": "JrxCjVc7-UaI",
        "outputId": "062200c6-0e8e-4f2c-be09-04079af782ad"
      },
      "execution_count": 116,
      "outputs": [
        {
          "output_type": "execute_result",
          "data": {
            "text/plain": [
              "   GRE Score  TOEFL Score  University Rating  SOP  LOR   CGPA  Research  \\\n",
              "0        337          118                  4  4.5   4.5  9.65         1   \n",
              "1        324          107                  4  4.0   4.5  8.87         1   \n",
              "2        316          104                  3  3.0   3.5  8.00         1   \n",
              "3        322          110                  3  3.5   2.5  8.67         1   \n",
              "4        314          103                  2  2.0   3.0  8.21         0   \n",
              "\n",
              "   Chance of Admit   \n",
              "0              0.92  \n",
              "1              0.76  \n",
              "2              0.72  \n",
              "3              0.80  \n",
              "4              0.65  "
            ],
            "text/html": [
              "\n",
              "  <div id=\"df-331fe294-f53a-43e3-8f58-4ffcc22115ff\">\n",
              "    <div class=\"colab-df-container\">\n",
              "      <div>\n",
              "<style scoped>\n",
              "    .dataframe tbody tr th:only-of-type {\n",
              "        vertical-align: middle;\n",
              "    }\n",
              "\n",
              "    .dataframe tbody tr th {\n",
              "        vertical-align: top;\n",
              "    }\n",
              "\n",
              "    .dataframe thead th {\n",
              "        text-align: right;\n",
              "    }\n",
              "</style>\n",
              "<table border=\"1\" class=\"dataframe\">\n",
              "  <thead>\n",
              "    <tr style=\"text-align: right;\">\n",
              "      <th></th>\n",
              "      <th>GRE Score</th>\n",
              "      <th>TOEFL Score</th>\n",
              "      <th>University Rating</th>\n",
              "      <th>SOP</th>\n",
              "      <th>LOR</th>\n",
              "      <th>CGPA</th>\n",
              "      <th>Research</th>\n",
              "      <th>Chance of Admit</th>\n",
              "    </tr>\n",
              "  </thead>\n",
              "  <tbody>\n",
              "    <tr>\n",
              "      <th>0</th>\n",
              "      <td>337</td>\n",
              "      <td>118</td>\n",
              "      <td>4</td>\n",
              "      <td>4.5</td>\n",
              "      <td>4.5</td>\n",
              "      <td>9.65</td>\n",
              "      <td>1</td>\n",
              "      <td>0.92</td>\n",
              "    </tr>\n",
              "    <tr>\n",
              "      <th>1</th>\n",
              "      <td>324</td>\n",
              "      <td>107</td>\n",
              "      <td>4</td>\n",
              "      <td>4.0</td>\n",
              "      <td>4.5</td>\n",
              "      <td>8.87</td>\n",
              "      <td>1</td>\n",
              "      <td>0.76</td>\n",
              "    </tr>\n",
              "    <tr>\n",
              "      <th>2</th>\n",
              "      <td>316</td>\n",
              "      <td>104</td>\n",
              "      <td>3</td>\n",
              "      <td>3.0</td>\n",
              "      <td>3.5</td>\n",
              "      <td>8.00</td>\n",
              "      <td>1</td>\n",
              "      <td>0.72</td>\n",
              "    </tr>\n",
              "    <tr>\n",
              "      <th>3</th>\n",
              "      <td>322</td>\n",
              "      <td>110</td>\n",
              "      <td>3</td>\n",
              "      <td>3.5</td>\n",
              "      <td>2.5</td>\n",
              "      <td>8.67</td>\n",
              "      <td>1</td>\n",
              "      <td>0.80</td>\n",
              "    </tr>\n",
              "    <tr>\n",
              "      <th>4</th>\n",
              "      <td>314</td>\n",
              "      <td>103</td>\n",
              "      <td>2</td>\n",
              "      <td>2.0</td>\n",
              "      <td>3.0</td>\n",
              "      <td>8.21</td>\n",
              "      <td>0</td>\n",
              "      <td>0.65</td>\n",
              "    </tr>\n",
              "  </tbody>\n",
              "</table>\n",
              "</div>\n",
              "      <button class=\"colab-df-convert\" onclick=\"convertToInteractive('df-331fe294-f53a-43e3-8f58-4ffcc22115ff')\"\n",
              "              title=\"Convert this dataframe to an interactive table.\"\n",
              "              style=\"display:none;\">\n",
              "        \n",
              "  <svg xmlns=\"http://www.w3.org/2000/svg\" height=\"24px\"viewBox=\"0 0 24 24\"\n",
              "       width=\"24px\">\n",
              "    <path d=\"M0 0h24v24H0V0z\" fill=\"none\"/>\n",
              "    <path d=\"M18.56 5.44l.94 2.06.94-2.06 2.06-.94-2.06-.94-.94-2.06-.94 2.06-2.06.94zm-11 1L8.5 8.5l.94-2.06 2.06-.94-2.06-.94L8.5 2.5l-.94 2.06-2.06.94zm10 10l.94 2.06.94-2.06 2.06-.94-2.06-.94-.94-2.06-.94 2.06-2.06.94z\"/><path d=\"M17.41 7.96l-1.37-1.37c-.4-.4-.92-.59-1.43-.59-.52 0-1.04.2-1.43.59L10.3 9.45l-7.72 7.72c-.78.78-.78 2.05 0 2.83L4 21.41c.39.39.9.59 1.41.59.51 0 1.02-.2 1.41-.59l7.78-7.78 2.81-2.81c.8-.78.8-2.07 0-2.86zM5.41 20L4 18.59l7.72-7.72 1.47 1.35L5.41 20z\"/>\n",
              "  </svg>\n",
              "      </button>\n",
              "      \n",
              "  <style>\n",
              "    .colab-df-container {\n",
              "      display:flex;\n",
              "      flex-wrap:wrap;\n",
              "      gap: 12px;\n",
              "    }\n",
              "\n",
              "    .colab-df-convert {\n",
              "      background-color: #E8F0FE;\n",
              "      border: none;\n",
              "      border-radius: 50%;\n",
              "      cursor: pointer;\n",
              "      display: none;\n",
              "      fill: #1967D2;\n",
              "      height: 32px;\n",
              "      padding: 0 0 0 0;\n",
              "      width: 32px;\n",
              "    }\n",
              "\n",
              "    .colab-df-convert:hover {\n",
              "      background-color: #E2EBFA;\n",
              "      box-shadow: 0px 1px 2px rgba(60, 64, 67, 0.3), 0px 1px 3px 1px rgba(60, 64, 67, 0.15);\n",
              "      fill: #174EA6;\n",
              "    }\n",
              "\n",
              "    [theme=dark] .colab-df-convert {\n",
              "      background-color: #3B4455;\n",
              "      fill: #D2E3FC;\n",
              "    }\n",
              "\n",
              "    [theme=dark] .colab-df-convert:hover {\n",
              "      background-color: #434B5C;\n",
              "      box-shadow: 0px 1px 3px 1px rgba(0, 0, 0, 0.15);\n",
              "      filter: drop-shadow(0px 1px 2px rgba(0, 0, 0, 0.3));\n",
              "      fill: #FFFFFF;\n",
              "    }\n",
              "  </style>\n",
              "\n",
              "      <script>\n",
              "        const buttonEl =\n",
              "          document.querySelector('#df-331fe294-f53a-43e3-8f58-4ffcc22115ff button.colab-df-convert');\n",
              "        buttonEl.style.display =\n",
              "          google.colab.kernel.accessAllowed ? 'block' : 'none';\n",
              "\n",
              "        async function convertToInteractive(key) {\n",
              "          const element = document.querySelector('#df-331fe294-f53a-43e3-8f58-4ffcc22115ff');\n",
              "          const dataTable =\n",
              "            await google.colab.kernel.invokeFunction('convertToInteractive',\n",
              "                                                     [key], {});\n",
              "          if (!dataTable) return;\n",
              "\n",
              "          const docLinkHtml = 'Like what you see? Visit the ' +\n",
              "            '<a target=\"_blank\" href=https://colab.research.google.com/notebooks/data_table.ipynb>data table notebook</a>'\n",
              "            + ' to learn more about interactive tables.';\n",
              "          element.innerHTML = '';\n",
              "          dataTable['output_type'] = 'display_data';\n",
              "          await google.colab.output.renderOutput(dataTable, element);\n",
              "          const docLink = document.createElement('div');\n",
              "          docLink.innerHTML = docLinkHtml;\n",
              "          element.appendChild(docLink);\n",
              "        }\n",
              "      </script>\n",
              "    </div>\n",
              "  </div>\n",
              "  "
            ]
          },
          "metadata": {},
          "execution_count": 116
        }
      ]
    },
    {
      "cell_type": "code",
      "source": [
        "y = traindf.iloc[:, -1]"
      ],
      "metadata": {
        "id": "WycbRLwy-sOW"
      },
      "execution_count": 117,
      "outputs": []
    },
    {
      "cell_type": "code",
      "source": [
        "X = traindf.iloc[:, :-1]"
      ],
      "metadata": {
        "id": "FZAcFWIqBNdQ"
      },
      "execution_count": 118,
      "outputs": []
    },
    {
      "cell_type": "code",
      "source": [
        "from sklearn.model_selection import train_test_split\n",
        "\n",
        "X_train, X_test, y_train, y_test = train_test_split(X, y, test_size=0.2, random_state=24)\n"
      ],
      "metadata": {
        "id": "wDl4rlRH-VSv"
      },
      "execution_count": 119,
      "outputs": []
    },
    {
      "cell_type": "code",
      "source": [
        "X_train.shape"
      ],
      "metadata": {
        "colab": {
          "base_uri": "https://localhost:8080/"
        },
        "id": "1oYMNzQdCURI",
        "outputId": "47a98bb0-50b3-48ae-e474-73c6a054b52f"
      },
      "execution_count": 120,
      "outputs": [
        {
          "output_type": "execute_result",
          "data": {
            "text/plain": [
              "(320, 7)"
            ]
          },
          "metadata": {},
          "execution_count": 120
        }
      ]
    },
    {
      "cell_type": "code",
      "source": [
        "X_test.shape"
      ],
      "metadata": {
        "colab": {
          "base_uri": "https://localhost:8080/"
        },
        "id": "liwqUdU8CXJ4",
        "outputId": "7c5128c9-eb0a-444f-d9be-3f5133734d66"
      },
      "execution_count": 121,
      "outputs": [
        {
          "output_type": "execute_result",
          "data": {
            "text/plain": [
              "(80, 7)"
            ]
          },
          "metadata": {},
          "execution_count": 121
        }
      ]
    },
    {
      "cell_type": "code",
      "source": [
        "from sklearn.preprocessing import MinMaxScaler\n",
        "\n",
        "scaler = MinMaxScaler()\n"
      ],
      "metadata": {
        "id": "AdFo5roE-na_"
      },
      "execution_count": 122,
      "outputs": []
    },
    {
      "cell_type": "code",
      "source": [
        "X_train_scaled = scaler.fit_transform(X_train)\n",
        "X_test_scaled = scaler.transform(X_test)"
      ],
      "metadata": {
        "id": "Qc4rIhTECFJB"
      },
      "execution_count": 123,
      "outputs": []
    },
    {
      "cell_type": "code",
      "source": [
        "X_train_scaled"
      ],
      "metadata": {
        "colab": {
          "base_uri": "https://localhost:8080/"
        },
        "id": "WqljI5qzCPvA",
        "outputId": "dc8b8f7d-cbae-4ab3-c890-232aac41e5fa"
      },
      "execution_count": 124,
      "outputs": [
        {
          "output_type": "execute_result",
          "data": {
            "text/plain": [
              "array([[0.52      , 0.64285714, 0.5       , ..., 0.875     , 0.63461538,\n",
              "        1.        ],\n",
              "       [0.58      , 0.5       , 0.5       , ..., 0.5       , 0.38461538,\n",
              "        1.        ],\n",
              "       [0.7       , 0.67857143, 0.5       , ..., 0.625     , 0.60897436,\n",
              "        0.        ],\n",
              "       ...,\n",
              "       [0.3       , 0.39285714, 0.25      , ..., 0.625     , 0.42628205,\n",
              "        0.        ],\n",
              "       [0.64      , 0.78571429, 1.        , ..., 0.75      , 0.68589744,\n",
              "        1.        ],\n",
              "       [0.34      , 0.46428571, 0.25      , ..., 0.625     , 0.41666667,\n",
              "        0.        ]])"
            ]
          },
          "metadata": {},
          "execution_count": 124
        }
      ]
    },
    {
      "cell_type": "code",
      "source": [
        "X_test_scaled"
      ],
      "metadata": {
        "colab": {
          "base_uri": "https://localhost:8080/"
        },
        "id": "fsxZ_OZ6CKMA",
        "outputId": "12818cef-88cf-4e7d-a182-7fe9f86456b5"
      },
      "execution_count": 125,
      "outputs": [
        {
          "output_type": "execute_result",
          "data": {
            "text/plain": [
              "array([[0.4       , 0.5       , 0.75      , 0.875     , 0.875     ,\n",
              "        0.71794872, 1.        ],\n",
              "       [0.54      , 0.53571429, 0.5       , 0.625     , 0.5       ,\n",
              "        0.6025641 , 1.        ],\n",
              "       [0.6       , 0.42857143, 0.5       , 0.625     , 0.875     ,\n",
              "        0.49358974, 1.        ],\n",
              "       [1.        , 1.        , 0.75      , 1.        , 1.        ,\n",
              "        0.86538462, 1.        ],\n",
              "       [0.3       , 0.46428571, 0.25      , 0.5       , 0.75      ,\n",
              "        0.42628205, 0.        ],\n",
              "       [0.22      , 0.42857143, 0.25      , 0.625     , 0.625     ,\n",
              "        0.34935897, 1.        ],\n",
              "       [0.74      , 0.71428571, 0.5       , 0.5       , 0.5       ,\n",
              "        0.61538462, 1.        ],\n",
              "       [0.34      , 0.35714286, 0.5       , 0.5       , 0.5       ,\n",
              "        0.47115385, 0.        ],\n",
              "       [0.68      , 0.71428571, 0.75      , 0.75      , 0.625     ,\n",
              "        0.63141026, 1.        ],\n",
              "       [0.62      , 0.64285714, 0.5       , 0.625     , 1.        ,\n",
              "        0.65705128, 1.        ],\n",
              "       [0.5       , 0.25      , 0.25      , 0.625     , 0.5       ,\n",
              "        0.34935897, 0.        ],\n",
              "       [0.56      , 0.60714286, 0.5       , 0.5       , 0.5       ,\n",
              "        0.54487179, 0.        ],\n",
              "       [0.44      , 0.39285714, 0.5       , 1.        , 0.75      ,\n",
              "        0.52884615, 0.        ],\n",
              "       [0.74      , 0.39285714, 0.5       , 0.75      , 0.75      ,\n",
              "        0.48076923, 1.        ],\n",
              "       [0.76      , 0.85714286, 1.        , 1.        , 1.        ,\n",
              "        0.86538462, 1.        ],\n",
              "       [0.62      , 0.60714286, 0.5       , 0.5       , 0.75      ,\n",
              "        0.44871795, 1.        ],\n",
              "       [0.62      , 0.53571429, 0.25      , 0.25      , 0.125     ,\n",
              "        0.52564103, 0.        ],\n",
              "       [0.52      , 0.32142857, 0.25      , 0.375     , 0.25      ,\n",
              "        0.48717949, 1.        ],\n",
              "       [0.82      , 0.82142857, 1.        , 0.875     , 0.625     ,\n",
              "        0.82051282, 1.        ],\n",
              "       [0.2       , 0.28571429, 0.5       , 0.25      , 0.5       ,\n",
              "        0.59615385, 1.        ],\n",
              "       [0.64      , 0.53571429, 0.5       , 0.625     , 0.625     ,\n",
              "        0.53205128, 1.        ],\n",
              "       [0.34      , 0.32142857, 0.5       , 0.75      , 0.5       ,\n",
              "        0.44871795, 0.        ],\n",
              "       [0.2       , 0.46428571, 0.        , 0.        , 0.25      ,\n",
              "        0.32051282, 0.        ],\n",
              "       [0.18      , 0.28571429, 0.        , 0.125     , 0.25      ,\n",
              "        0.34935897, 0.        ],\n",
              "       [0.26      , 0.35714286, 0.5       , 0.625     , 0.5       ,\n",
              "        0.54487179, 0.        ],\n",
              "       [0.72      , 0.75      , 1.        , 0.875     , 0.75      ,\n",
              "        0.83333333, 1.        ],\n",
              "       [0.48      , 0.57142857, 0.5       , 0.875     , 0.625     ,\n",
              "        0.42948718, 0.        ],\n",
              "       [0.        , 0.28571429, 0.        , 0.125     , 0.25      ,\n",
              "        0.24358974, 0.        ],\n",
              "       [0.44      , 0.42857143, 0.5       , 0.625     , 0.625     ,\n",
              "        0.51923077, 0.        ],\n",
              "       [0.4       , 0.25      , 0.25      , 0.125     , 0.25      ,\n",
              "        0.16025641, 0.        ],\n",
              "       [0.88      , 0.78571429, 0.75      , 0.75      , 0.75      ,\n",
              "        0.84294872, 1.        ],\n",
              "       [1.        , 1.        , 1.        , 0.875     , 0.875     ,\n",
              "        0.8974359 , 1.        ],\n",
              "       [0.94      , 0.92857143, 0.75      , 0.875     , 0.875     ,\n",
              "        0.91346154, 1.        ],\n",
              "       [0.1       , 0.25      , 0.25      , 0.375     , 0.5       ,\n",
              "        0.2724359 , 0.        ],\n",
              "       [0.52      , 0.5       , 0.25      , 0.375     , 0.75      ,\n",
              "        0.48717949, 0.        ],\n",
              "       [0.54      , 0.28571429, 0.25      , 0.5       , 0.375     ,\n",
              "        0.56730769, 0.        ],\n",
              "       [0.68      , 0.67857143, 0.5       , 0.375     , 0.25      ,\n",
              "        0.64102564, 1.        ],\n",
              "       [0.64      , 0.64285714, 1.        , 0.875     , 0.75      ,\n",
              "        0.69551282, 0.        ],\n",
              "       [0.44      , 0.53571429, 0.5       , 0.5       , 0.5       ,\n",
              "        0.53205128, 1.        ],\n",
              "       [0.64      , 0.64285714, 0.5       , 0.75      , 1.        ,\n",
              "        0.58974359, 1.        ],\n",
              "       [0.44      , 0.60714286, 0.5       , 0.5       , 0.5       ,\n",
              "        0.60576923, 0.        ],\n",
              "       [0.62      , 0.60714286, 0.5       , 0.625     , 0.625     ,\n",
              "        0.64102564, 1.        ],\n",
              "       [0.9       , 0.92857143, 1.        , 0.875     , 0.625     ,\n",
              "        0.84615385, 1.        ],\n",
              "       [0.54      , 0.5       , 0.5       , 0.75      , 0.625     ,\n",
              "        0.54487179, 1.        ],\n",
              "       [0.72      , 0.67857143, 1.        , 0.875     , 0.75      ,\n",
              "        0.77884615, 1.        ],\n",
              "       [0.68      , 0.53571429, 1.        , 0.625     , 0.75      ,\n",
              "        0.59615385, 1.        ],\n",
              "       [0.46      , 0.5       , 0.25      , 0.375     , 0.25      ,\n",
              "        0.5224359 , 0.        ],\n",
              "       [0.7       , 0.53571429, 0.5       , 0.5       , 0.625     ,\n",
              "        0.74038462, 1.        ],\n",
              "       [0.56      , 0.28571429, 0.25      , 0.375     , 0.625     ,\n",
              "        0.55769231, 1.        ],\n",
              "       [0.44      , 0.53571429, 0.75      , 0.875     , 0.75      ,\n",
              "        0.59294872, 1.        ],\n",
              "       [0.5       , 0.42857143, 0.5       , 0.5       , 0.375     ,\n",
              "        0.49038462, 0.        ],\n",
              "       [0.56      , 0.53571429, 0.5       , 0.5       , 0.625     ,\n",
              "        0.47115385, 1.        ],\n",
              "       [0.42      , 0.42857143, 0.25      , 0.375     , 0.625     ,\n",
              "        0.53846154, 0.        ],\n",
              "       [0.58      , 0.64285714, 0.5       , 0.625     , 0.625     ,\n",
              "        0.71794872, 0.        ],\n",
              "       [0.46      , 0.39285714, 0.5       , 0.75      , 0.75      ,\n",
              "        0.625     , 0.        ],\n",
              "       [0.22      , 0.28571429, 0.5       , 0.625     , 0.5       ,\n",
              "        0.3974359 , 0.        ],\n",
              "       [0.4       , 0.53571429, 0.5       , 0.625     , 0.625     ,\n",
              "        0.59935897, 0.        ],\n",
              "       [0.74      , 0.75      , 0.75      , 0.875     , 0.875     ,\n",
              "        0.74038462, 1.        ],\n",
              "       [0.42      , 0.46428571, 0.5       , 0.625     , 0.5       ,\n",
              "        0.52884615, 1.        ],\n",
              "       [0.48      , 0.64285714, 0.5       , 0.75      , 0.75      ,\n",
              "        0.64102564, 0.        ],\n",
              "       [0.58      , 0.71428571, 0.5       , 0.375     , 0.25      ,\n",
              "        0.61217949, 1.        ],\n",
              "       [0.78      , 0.78571429, 1.        , 0.75      , 1.        ,\n",
              "        0.80128205, 1.        ],\n",
              "       [0.1       , 0.32142857, 0.25      , 0.375     , 0.25      ,\n",
              "        0.33974359, 0.        ],\n",
              "       [0.62      , 0.71428571, 1.        , 1.        , 1.        ,\n",
              "        0.72435897, 1.        ],\n",
              "       [0.5       , 0.46428571, 0.25      , 0.25      , 0.375     ,\n",
              "        0.2724359 , 0.        ],\n",
              "       [0.72      , 0.57142857, 0.5       , 0.5       , 0.625     ,\n",
              "        0.66987179, 0.        ],\n",
              "       [0.68      , 0.78571429, 1.        , 1.        , 0.875     ,\n",
              "        0.73076923, 1.        ],\n",
              "       [0.62      , 0.67857143, 1.        , 1.        , 1.        ,\n",
              "        0.84935897, 1.        ],\n",
              "       [0.12      , 0.25      , 0.25      , 0.5       , 0.625     ,\n",
              "        0.15384615, 0.        ],\n",
              "       [0.54      , 0.53571429, 0.5       , 0.75      , 0.5       ,\n",
              "        0.60897436, 0.        ],\n",
              "       [0.84      , 0.92857143, 1.        , 1.        , 1.        ,\n",
              "        0.91025641, 1.        ],\n",
              "       [0.48      , 0.46428571, 0.5       , 0.625     , 0.375     ,\n",
              "        0.48076923, 0.        ],\n",
              "       [0.62      , 0.60714286, 0.75      , 0.75      , 0.75      ,\n",
              "        0.6025641 , 1.        ],\n",
              "       [0.72      , 0.71428571, 0.5       , 0.625     , 0.5       ,\n",
              "        0.72115385, 1.        ],\n",
              "       [0.22      , 0.25      , 0.25      , 0.5       , 0.25      ,\n",
              "        0.45512821, 0.        ],\n",
              "       [0.46      , 0.42857143, 0.5       , 0.75      , 0.875     ,\n",
              "        0.59294872, 0.        ],\n",
              "       [0.3       , 0.71428571, 0.5       , 0.5       , 0.625     ,\n",
              "        0.59294872, 0.        ],\n",
              "       [0.6       , 0.64285714, 1.        , 1.        , 0.875     ,\n",
              "        0.77564103, 1.        ],\n",
              "       [0.68      , 0.28571429, 0.5       , 0.75      , 1.        ,\n",
              "        0.58974359, 1.        ],\n",
              "       [0.48      , 0.53571429, 0.5       , 0.5       , 0.625     ,\n",
              "        0.43910256, 1.        ]])"
            ]
          },
          "metadata": {},
          "execution_count": 125
        }
      ]
    },
    {
      "cell_type": "code",
      "source": [
        "model = Sequential()\n",
        "\n",
        "model.add(Dense(7, activation='relu', input_dim=7))\n",
        "model.add(Dense(7, activation='relu'))\n",
        "model.add(Dense(3, activation='relu'))\n",
        "model.add(Dense(1, activation='linear'))\n"
      ],
      "metadata": {
        "id": "Ni8a7QW_CguJ"
      },
      "execution_count": 126,
      "outputs": []
    },
    {
      "cell_type": "code",
      "source": [
        "model.compile(loss='mean_squared_error',  optimizer='Adam')"
      ],
      "metadata": {
        "id": "tDHHpmZbC7GI"
      },
      "execution_count": 127,
      "outputs": []
    },
    {
      "cell_type": "code",
      "source": [
        "model.summary()"
      ],
      "metadata": {
        "colab": {
          "base_uri": "https://localhost:8080/"
        },
        "id": "sSGGG1NXDIEZ",
        "outputId": "61b98b87-1029-472c-90e1-b6b97c49c98e"
      },
      "execution_count": 128,
      "outputs": [
        {
          "output_type": "stream",
          "name": "stdout",
          "text": [
            "Model: \"sequential_6\"\n",
            "_________________________________________________________________\n",
            " Layer (type)                Output Shape              Param #   \n",
            "=================================================================\n",
            " dense_17 (Dense)            (None, 7)                 56        \n",
            "                                                                 \n",
            " dense_18 (Dense)            (None, 7)                 56        \n",
            "                                                                 \n",
            " dense_19 (Dense)            (None, 3)                 24        \n",
            "                                                                 \n",
            " dense_20 (Dense)            (None, 1)                 4         \n",
            "                                                                 \n",
            "=================================================================\n",
            "Total params: 140\n",
            "Trainable params: 140\n",
            "Non-trainable params: 0\n",
            "_________________________________________________________________\n"
          ]
        }
      ]
    },
    {
      "cell_type": "code",
      "source": [
        "history = model.fit(X_train_scaled, y_train, epochs=100, validation_split=0.2)"
      ],
      "metadata": {
        "colab": {
          "base_uri": "https://localhost:8080/"
        },
        "id": "LlTM97EIDJr4",
        "outputId": "fcfd9b06-7ae4-412c-b923-36412f4f150d"
      },
      "execution_count": 129,
      "outputs": [
        {
          "output_type": "stream",
          "name": "stdout",
          "text": [
            "Epoch 1/100\n",
            "8/8 [==============================] - 0s 19ms/step - loss: 0.0518 - val_loss: 0.0432\n",
            "Epoch 2/100\n",
            "8/8 [==============================] - 0s 5ms/step - loss: 0.0437 - val_loss: 0.0372\n",
            "Epoch 3/100\n",
            "8/8 [==============================] - 0s 4ms/step - loss: 0.0368 - val_loss: 0.0308\n",
            "Epoch 4/100\n",
            "8/8 [==============================] - 0s 5ms/step - loss: 0.0306 - val_loss: 0.0250\n",
            "Epoch 5/100\n",
            "8/8 [==============================] - 0s 5ms/step - loss: 0.0254 - val_loss: 0.0203\n",
            "Epoch 6/100\n",
            "8/8 [==============================] - 0s 5ms/step - loss: 0.0209 - val_loss: 0.0162\n",
            "Epoch 7/100\n",
            "8/8 [==============================] - 0s 5ms/step - loss: 0.0168 - val_loss: 0.0126\n",
            "Epoch 8/100\n",
            "8/8 [==============================] - 0s 5ms/step - loss: 0.0139 - val_loss: 0.0095\n",
            "Epoch 9/100\n",
            "8/8 [==============================] - 0s 5ms/step - loss: 0.0115 - val_loss: 0.0077\n",
            "Epoch 10/100\n",
            "8/8 [==============================] - 0s 4ms/step - loss: 0.0099 - val_loss: 0.0068\n",
            "Epoch 11/100\n",
            "8/8 [==============================] - 0s 5ms/step - loss: 0.0090 - val_loss: 0.0068\n",
            "Epoch 12/100\n",
            "8/8 [==============================] - 0s 5ms/step - loss: 0.0085 - val_loss: 0.0068\n",
            "Epoch 13/100\n",
            "8/8 [==============================] - 0s 6ms/step - loss: 0.0083 - val_loss: 0.0067\n",
            "Epoch 14/100\n",
            "8/8 [==============================] - 0s 5ms/step - loss: 0.0081 - val_loss: 0.0066\n",
            "Epoch 15/100\n",
            "8/8 [==============================] - 0s 4ms/step - loss: 0.0079 - val_loss: 0.0063\n",
            "Epoch 16/100\n",
            "8/8 [==============================] - 0s 6ms/step - loss: 0.0077 - val_loss: 0.0063\n",
            "Epoch 17/100\n",
            "8/8 [==============================] - 0s 5ms/step - loss: 0.0077 - val_loss: 0.0062\n",
            "Epoch 18/100\n",
            "8/8 [==============================] - 0s 5ms/step - loss: 0.0074 - val_loss: 0.0059\n",
            "Epoch 19/100\n",
            "8/8 [==============================] - 0s 5ms/step - loss: 0.0074 - val_loss: 0.0060\n",
            "Epoch 20/100\n",
            "8/8 [==============================] - 0s 4ms/step - loss: 0.0073 - val_loss: 0.0059\n",
            "Epoch 21/100\n",
            "8/8 [==============================] - 0s 5ms/step - loss: 0.0072 - val_loss: 0.0058\n",
            "Epoch 22/100\n",
            "8/8 [==============================] - 0s 6ms/step - loss: 0.0070 - val_loss: 0.0060\n",
            "Epoch 23/100\n",
            "8/8 [==============================] - 0s 5ms/step - loss: 0.0070 - val_loss: 0.0057\n",
            "Epoch 24/100\n",
            "8/8 [==============================] - 0s 5ms/step - loss: 0.0069 - val_loss: 0.0057\n",
            "Epoch 25/100\n",
            "8/8 [==============================] - 0s 5ms/step - loss: 0.0068 - val_loss: 0.0056\n",
            "Epoch 26/100\n",
            "8/8 [==============================] - 0s 6ms/step - loss: 0.0067 - val_loss: 0.0056\n",
            "Epoch 27/100\n",
            "8/8 [==============================] - 0s 5ms/step - loss: 0.0066 - val_loss: 0.0055\n",
            "Epoch 28/100\n",
            "8/8 [==============================] - 0s 5ms/step - loss: 0.0065 - val_loss: 0.0054\n",
            "Epoch 29/100\n",
            "8/8 [==============================] - 0s 5ms/step - loss: 0.0065 - val_loss: 0.0053\n",
            "Epoch 30/100\n",
            "8/8 [==============================] - 0s 7ms/step - loss: 0.0064 - val_loss: 0.0053\n",
            "Epoch 31/100\n",
            "8/8 [==============================] - 0s 5ms/step - loss: 0.0063 - val_loss: 0.0052\n",
            "Epoch 32/100\n",
            "8/8 [==============================] - 0s 5ms/step - loss: 0.0062 - val_loss: 0.0052\n",
            "Epoch 33/100\n",
            "8/8 [==============================] - 0s 6ms/step - loss: 0.0061 - val_loss: 0.0052\n",
            "Epoch 34/100\n",
            "8/8 [==============================] - 0s 5ms/step - loss: 0.0061 - val_loss: 0.0051\n",
            "Epoch 35/100\n",
            "8/8 [==============================] - 0s 7ms/step - loss: 0.0063 - val_loss: 0.0052\n",
            "Epoch 36/100\n",
            "8/8 [==============================] - 0s 6ms/step - loss: 0.0063 - val_loss: 0.0052\n",
            "Epoch 37/100\n",
            "8/8 [==============================] - 0s 5ms/step - loss: 0.0061 - val_loss: 0.0050\n",
            "Epoch 38/100\n",
            "8/8 [==============================] - 0s 9ms/step - loss: 0.0059 - val_loss: 0.0052\n",
            "Epoch 39/100\n",
            "8/8 [==============================] - 0s 5ms/step - loss: 0.0058 - val_loss: 0.0050\n",
            "Epoch 40/100\n",
            "8/8 [==============================] - 0s 5ms/step - loss: 0.0058 - val_loss: 0.0050\n",
            "Epoch 41/100\n",
            "8/8 [==============================] - 0s 5ms/step - loss: 0.0057 - val_loss: 0.0050\n",
            "Epoch 42/100\n",
            "8/8 [==============================] - 0s 5ms/step - loss: 0.0057 - val_loss: 0.0049\n",
            "Epoch 43/100\n",
            "8/8 [==============================] - 0s 5ms/step - loss: 0.0056 - val_loss: 0.0048\n",
            "Epoch 44/100\n",
            "8/8 [==============================] - 0s 5ms/step - loss: 0.0055 - val_loss: 0.0047\n",
            "Epoch 45/100\n",
            "8/8 [==============================] - 0s 5ms/step - loss: 0.0053 - val_loss: 0.0045\n",
            "Epoch 46/100\n",
            "8/8 [==============================] - 0s 5ms/step - loss: 0.0052 - val_loss: 0.0043\n",
            "Epoch 47/100\n",
            "8/8 [==============================] - 0s 7ms/step - loss: 0.0050 - val_loss: 0.0042\n",
            "Epoch 48/100\n",
            "8/8 [==============================] - 0s 6ms/step - loss: 0.0048 - val_loss: 0.0041\n",
            "Epoch 49/100\n",
            "8/8 [==============================] - 0s 6ms/step - loss: 0.0047 - val_loss: 0.0041\n",
            "Epoch 50/100\n",
            "8/8 [==============================] - 0s 6ms/step - loss: 0.0046 - val_loss: 0.0041\n",
            "Epoch 51/100\n",
            "8/8 [==============================] - 0s 8ms/step - loss: 0.0046 - val_loss: 0.0040\n",
            "Epoch 52/100\n",
            "8/8 [==============================] - 0s 5ms/step - loss: 0.0046 - val_loss: 0.0040\n",
            "Epoch 53/100\n",
            "8/8 [==============================] - 0s 10ms/step - loss: 0.0045 - val_loss: 0.0040\n",
            "Epoch 54/100\n",
            "8/8 [==============================] - 0s 6ms/step - loss: 0.0044 - val_loss: 0.0040\n",
            "Epoch 55/100\n",
            "8/8 [==============================] - 0s 5ms/step - loss: 0.0045 - val_loss: 0.0040\n",
            "Epoch 56/100\n",
            "8/8 [==============================] - 0s 4ms/step - loss: 0.0044 - val_loss: 0.0039\n",
            "Epoch 57/100\n",
            "8/8 [==============================] - 0s 5ms/step - loss: 0.0044 - val_loss: 0.0039\n",
            "Epoch 58/100\n",
            "8/8 [==============================] - 0s 5ms/step - loss: 0.0044 - val_loss: 0.0039\n",
            "Epoch 59/100\n",
            "8/8 [==============================] - 0s 6ms/step - loss: 0.0044 - val_loss: 0.0040\n",
            "Epoch 60/100\n",
            "8/8 [==============================] - 0s 5ms/step - loss: 0.0043 - val_loss: 0.0039\n",
            "Epoch 61/100\n",
            "8/8 [==============================] - 0s 5ms/step - loss: 0.0044 - val_loss: 0.0039\n",
            "Epoch 62/100\n",
            "8/8 [==============================] - 0s 5ms/step - loss: 0.0044 - val_loss: 0.0039\n",
            "Epoch 63/100\n",
            "8/8 [==============================] - 0s 5ms/step - loss: 0.0043 - val_loss: 0.0039\n",
            "Epoch 64/100\n",
            "8/8 [==============================] - 0s 5ms/step - loss: 0.0043 - val_loss: 0.0039\n",
            "Epoch 65/100\n",
            "8/8 [==============================] - 0s 4ms/step - loss: 0.0043 - val_loss: 0.0039\n",
            "Epoch 66/100\n",
            "8/8 [==============================] - 0s 5ms/step - loss: 0.0044 - val_loss: 0.0039\n",
            "Epoch 67/100\n",
            "8/8 [==============================] - 0s 6ms/step - loss: 0.0043 - val_loss: 0.0039\n",
            "Epoch 68/100\n",
            "8/8 [==============================] - 0s 5ms/step - loss: 0.0042 - val_loss: 0.0039\n",
            "Epoch 69/100\n",
            "8/8 [==============================] - 0s 5ms/step - loss: 0.0043 - val_loss: 0.0039\n",
            "Epoch 70/100\n",
            "8/8 [==============================] - 0s 5ms/step - loss: 0.0042 - val_loss: 0.0039\n",
            "Epoch 71/100\n",
            "8/8 [==============================] - 0s 5ms/step - loss: 0.0043 - val_loss: 0.0039\n",
            "Epoch 72/100\n",
            "8/8 [==============================] - 0s 5ms/step - loss: 0.0043 - val_loss: 0.0039\n",
            "Epoch 73/100\n",
            "8/8 [==============================] - 0s 5ms/step - loss: 0.0043 - val_loss: 0.0039\n",
            "Epoch 74/100\n",
            "8/8 [==============================] - 0s 5ms/step - loss: 0.0042 - val_loss: 0.0039\n",
            "Epoch 75/100\n",
            "8/8 [==============================] - 0s 6ms/step - loss: 0.0042 - val_loss: 0.0039\n",
            "Epoch 76/100\n",
            "8/8 [==============================] - 0s 5ms/step - loss: 0.0042 - val_loss: 0.0039\n",
            "Epoch 77/100\n",
            "8/8 [==============================] - 0s 6ms/step - loss: 0.0042 - val_loss: 0.0039\n",
            "Epoch 78/100\n",
            "8/8 [==============================] - 0s 5ms/step - loss: 0.0042 - val_loss: 0.0039\n",
            "Epoch 79/100\n",
            "8/8 [==============================] - 0s 5ms/step - loss: 0.0042 - val_loss: 0.0039\n",
            "Epoch 80/100\n",
            "8/8 [==============================] - 0s 5ms/step - loss: 0.0042 - val_loss: 0.0039\n",
            "Epoch 81/100\n",
            "8/8 [==============================] - 0s 6ms/step - loss: 0.0042 - val_loss: 0.0039\n",
            "Epoch 82/100\n",
            "8/8 [==============================] - 0s 5ms/step - loss: 0.0042 - val_loss: 0.0039\n",
            "Epoch 83/100\n",
            "8/8 [==============================] - 0s 5ms/step - loss: 0.0042 - val_loss: 0.0040\n",
            "Epoch 84/100\n",
            "8/8 [==============================] - 0s 5ms/step - loss: 0.0042 - val_loss: 0.0040\n",
            "Epoch 85/100\n",
            "8/8 [==============================] - 0s 5ms/step - loss: 0.0042 - val_loss: 0.0039\n",
            "Epoch 86/100\n",
            "8/8 [==============================] - 0s 8ms/step - loss: 0.0041 - val_loss: 0.0039\n",
            "Epoch 87/100\n",
            "8/8 [==============================] - 0s 5ms/step - loss: 0.0042 - val_loss: 0.0039\n",
            "Epoch 88/100\n",
            "8/8 [==============================] - 0s 5ms/step - loss: 0.0042 - val_loss: 0.0039\n",
            "Epoch 89/100\n",
            "8/8 [==============================] - 0s 5ms/step - loss: 0.0041 - val_loss: 0.0039\n",
            "Epoch 90/100\n",
            "8/8 [==============================] - 0s 8ms/step - loss: 0.0042 - val_loss: 0.0039\n",
            "Epoch 91/100\n",
            "8/8 [==============================] - 0s 5ms/step - loss: 0.0041 - val_loss: 0.0039\n",
            "Epoch 92/100\n",
            "8/8 [==============================] - 0s 6ms/step - loss: 0.0042 - val_loss: 0.0039\n",
            "Epoch 93/100\n",
            "8/8 [==============================] - 0s 5ms/step - loss: 0.0041 - val_loss: 0.0039\n",
            "Epoch 94/100\n",
            "8/8 [==============================] - 0s 6ms/step - loss: 0.0041 - val_loss: 0.0039\n",
            "Epoch 95/100\n",
            "8/8 [==============================] - 0s 7ms/step - loss: 0.0042 - val_loss: 0.0039\n",
            "Epoch 96/100\n",
            "8/8 [==============================] - 0s 6ms/step - loss: 0.0042 - val_loss: 0.0039\n",
            "Epoch 97/100\n",
            "8/8 [==============================] - 0s 9ms/step - loss: 0.0041 - val_loss: 0.0039\n",
            "Epoch 98/100\n",
            "8/8 [==============================] - 0s 5ms/step - loss: 0.0041 - val_loss: 0.0039\n",
            "Epoch 99/100\n",
            "8/8 [==============================] - 0s 6ms/step - loss: 0.0041 - val_loss: 0.0039\n",
            "Epoch 100/100\n",
            "8/8 [==============================] - 0s 6ms/step - loss: 0.0041 - val_loss: 0.0039\n"
          ]
        }
      ]
    },
    {
      "cell_type": "code",
      "source": [
        "y_pred = model.predict(X_test_scaled)"
      ],
      "metadata": {
        "id": "K-NPjqzwDshQ"
      },
      "execution_count": 130,
      "outputs": []
    },
    {
      "cell_type": "code",
      "source": [
        "y_pred"
      ],
      "metadata": {
        "colab": {
          "base_uri": "https://localhost:8080/"
        },
        "id": "sLeakse7Dxd_",
        "outputId": "aa7963cf-c20c-4d30-a35f-bcaa45543533"
      },
      "execution_count": 131,
      "outputs": [
        {
          "output_type": "execute_result",
          "data": {
            "text/plain": [
              "array([[0.8005395 ],\n",
              "       [0.7340976 ],\n",
              "       [0.7137983 ],\n",
              "       [0.94162655],\n",
              "       [0.6433618 ],\n",
              "       [0.5813409 ],\n",
              "       [0.76318824],\n",
              "       [0.6354114 ],\n",
              "       [0.79180396],\n",
              "       [0.7856569 ],\n",
              "       [0.5775182 ],\n",
              "       [0.69935596],\n",
              "       [0.6590725 ],\n",
              "       [0.7225393 ],\n",
              "       [0.93204176],\n",
              "       [0.693908  ],\n",
              "       [0.6421989 ],\n",
              "       [0.6507734 ],\n",
              "       [0.9050156 ],\n",
              "       [0.6821444 ],\n",
              "       [0.7243773 ],\n",
              "       [0.6108184 ],\n",
              "       [0.46271396],\n",
              "       [0.51273453],\n",
              "       [0.6497195 ],\n",
              "       [0.9020325 ],\n",
              "       [0.6425438 ],\n",
              "       [0.4402441 ],\n",
              "       [0.66882026],\n",
              "       [0.51277256],\n",
              "       [0.9026282 ],\n",
              "       [0.9680197 ],\n",
              "       [0.9450996 ],\n",
              "       [0.54261756],\n",
              "       [0.6864903 ],\n",
              "       [0.6541209 ],\n",
              "       [0.75343645],\n",
              "       [0.7740649 ],\n",
              "       [0.6930909 ],\n",
              "       [0.76429176],\n",
              "       [0.7136589 ],\n",
              "       [0.76421106],\n",
              "       [0.925575  ],\n",
              "       [0.71862304],\n",
              "       [0.8805586 ],\n",
              "       [0.80081236],\n",
              "       [0.65353453],\n",
              "       [0.80933785],\n",
              "       [0.69722533],\n",
              "       [0.7530421 ],\n",
              "       [0.6478884 ],\n",
              "       [0.6894814 ],\n",
              "       [0.68049395],\n",
              "       [0.76731765],\n",
              "       [0.70611656],\n",
              "       [0.5894966 ],\n",
              "       [0.70552766],\n",
              "       [0.8529439 ],\n",
              "       [0.69064224],\n",
              "       [0.73949075],\n",
              "       [0.73056126],\n",
              "       [0.9055598 ],\n",
              "       [0.53949237],\n",
              "       [0.8597785 ],\n",
              "       [0.58341205],\n",
              "       [0.7573683 ],\n",
              "       [0.8652226 ],\n",
              "       [0.907159  ],\n",
              "       [0.4753243 ],\n",
              "       [0.6994256 ],\n",
              "       [0.9596052 ],\n",
              "       [0.6408    ],\n",
              "       [0.7774584 ],\n",
              "       [0.8030133 ],\n",
              "       [0.5841485 ],\n",
              "       [0.7094295 ],\n",
              "       [0.70931184],\n",
              "       [0.87124383],\n",
              "       [0.76580226],\n",
              "       [0.66748595]], dtype=float32)"
            ]
          },
          "metadata": {},
          "execution_count": 131
        }
      ]
    },
    {
      "cell_type": "code",
      "source": [
        "from sklearn.metrics import r2_score\n",
        "\n",
        "r2_score(y_test, y_pred)"
      ],
      "metadata": {
        "colab": {
          "base_uri": "https://localhost:8080/"
        },
        "id": "9EzJrYP-DeDQ",
        "outputId": "0fd7de99-7cba-4161-9b65-5120afa68998"
      },
      "execution_count": 132,
      "outputs": [
        {
          "output_type": "execute_result",
          "data": {
            "text/plain": [
              "0.751412249173713"
            ]
          },
          "metadata": {},
          "execution_count": 132
        }
      ]
    },
    {
      "cell_type": "code",
      "source": [
        "plt.plot(history.history['loss'])\n",
        "plt.plot(history.history['val_loss'])"
      ],
      "metadata": {
        "colab": {
          "base_uri": "https://localhost:8080/",
          "height": 282
        },
        "id": "2tLUtR29Fa_R",
        "outputId": "c78b7b44-a821-4a28-dd5a-09e4e723fdaf"
      },
      "execution_count": 137,
      "outputs": [
        {
          "output_type": "execute_result",
          "data": {
            "text/plain": [
              "[<matplotlib.lines.Line2D at 0x7f04c7148410>]"
            ]
          },
          "metadata": {},
          "execution_count": 137
        },
        {
          "output_type": "display_data",
          "data": {
            "text/plain": [
              "<Figure size 432x288 with 1 Axes>"
            ],
            "image/png": "[encoded data removed]"
          },
          "metadata": {
            "needs_background": "light"
          }
        }
      ]
    }
  ]
}