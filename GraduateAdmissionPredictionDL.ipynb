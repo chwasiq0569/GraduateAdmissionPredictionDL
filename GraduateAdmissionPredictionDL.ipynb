{
  "nbformat": 4,
  "nbformat_minor": 0,
  "metadata": {
    "colab": {
      "provenance": [],
      "collapsed_sections": []
    },
    "kernelspec": {
      "name": "python3",
      "display_name": "Python 3"
    },
    "language_info": {
      "name": "python"
    }
  },
  "cells": [
    {
      "cell_type": "code",
      "execution_count": 46,
      "metadata": {
        "id": "NWF0Jl78845L"
      },
      "outputs": [],
      "source": [
        "import pandas as pd\n",
        "import numpy as np\n",
        "import matplotlib.pyplot as plt\n",
        "import tensorflow\n",
        "from tensorflow.keras import Sequential\n",
        "from tensorflow.keras.layers import Dense "
      ]
    },
    {
      "cell_type": "code",
      "source": [
        "traindf = pd.read_csv('/content/Admission_Predict.csv')"
      ],
      "metadata": {
        "id": "aKl9Co4t953w"
      },
      "execution_count": 47,
      "outputs": []
    },
    {
      "cell_type": "code",
      "source": [
        "traindf.head()"
      ],
      "metadata": {
        "colab": {
          "base_uri": "https://localhost:8080/",
          "height": 206
        },
        "id": "yfJogV4t-MtX",
        "outputId": "770246fa-0cab-4ec3-aeac-1c900af58b32"
      },
      "execution_count": 48,
      "outputs": [
        {
          "output_type": "execute_result",
          "data": {
            "text/plain": [
              "   Serial No.  GRE Score  TOEFL Score  University Rating  SOP  LOR   CGPA  \\\n",
              "0           1        337          118                  4  4.5   4.5  9.65   \n",
              "1           2        324          107                  4  4.0   4.5  8.87   \n",
              "2           3        316          104                  3  3.0   3.5  8.00   \n",
              "3           4        322          110                  3  3.5   2.5  8.67   \n",
              "4           5        314          103                  2  2.0   3.0  8.21   \n",
              "\n",
              "   Research  Chance of Admit   \n",
              "0         1              0.92  \n",
              "1         1              0.76  \n",
              "2         1              0.72  \n",
              "3         1              0.80  \n",
              "4         0              0.65  "
            ],
            "text/html": [
              "\n",
              "  <div id=\"df-526f1e1c-a5d1-40f0-9b36-7f03034be387\">\n",
              "    <div class=\"colab-df-container\">\n",
              "      <div>\n",
              "<style scoped>\n",
              "    .dataframe tbody tr th:only-of-type {\n",
              "        vertical-align: middle;\n",
              "    }\n",
              "\n",
              "    .dataframe tbody tr th {\n",
              "        vertical-align: top;\n",
              "    }\n",
              "\n",
              "    .dataframe thead th {\n",
              "        text-align: right;\n",
              "    }\n",
              "</style>\n",
              "<table border=\"1\" class=\"dataframe\">\n",
              "  <thead>\n",
              "    <tr style=\"text-align: right;\">\n",
              "      <th></th>\n",
              "      <th>Serial No.</th>\n",
              "      <th>GRE Score</th>\n",
              "      <th>TOEFL Score</th>\n",
              "      <th>University Rating</th>\n",
              "      <th>SOP</th>\n",
              "      <th>LOR</th>\n",
              "      <th>CGPA</th>\n",
              "      <th>Research</th>\n",
              "      <th>Chance of Admit</th>\n",
              "    </tr>\n",
              "  </thead>\n",
              "  <tbody>\n",
              "    <tr>\n",
              "      <th>0</th>\n",
              "      <td>1</td>\n",
              "      <td>337</td>\n",
              "      <td>118</td>\n",
              "      <td>4</td>\n",
              "      <td>4.5</td>\n",
              "      <td>4.5</td>\n",
              "      <td>9.65</td>\n",
              "      <td>1</td>\n",
              "      <td>0.92</td>\n",
              "    </tr>\n",
              "    <tr>\n",
              "      <th>1</th>\n",
              "      <td>2</td>\n",
              "      <td>324</td>\n",
              "      <td>107</td>\n",
              "      <td>4</td>\n",
              "      <td>4.0</td>\n",
              "      <td>4.5</td>\n",
              "      <td>8.87</td>\n",
              "      <td>1</td>\n",
              "      <td>0.76</td>\n",
              "    </tr>\n",
              "    <tr>\n",
              "      <th>2</th>\n",
              "      <td>3</td>\n",
              "      <td>316</td>\n",
              "      <td>104</td>\n",
              "      <td>3</td>\n",
              "      <td>3.0</td>\n",
              "      <td>3.5</td>\n",
              "      <td>8.00</td>\n",
              "      <td>1</td>\n",
              "      <td>0.72</td>\n",
              "    </tr>\n",
              "    <tr>\n",
              "      <th>3</th>\n",
              "      <td>4</td>\n",
              "      <td>322</td>\n",
              "      <td>110</td>\n",
              "      <td>3</td>\n",
              "      <td>3.5</td>\n",
              "      <td>2.5</td>\n",
              "      <td>8.67</td>\n",
              "      <td>1</td>\n",
              "      <td>0.80</td>\n",
              "    </tr>\n",
              "    <tr>\n",
              "      <th>4</th>\n",
              "      <td>5</td>\n",
              "      <td>314</td>\n",
              "      <td>103</td>\n",
              "      <td>2</td>\n",
              "      <td>2.0</td>\n",
              "      <td>3.0</td>\n",
              "      <td>8.21</td>\n",
              "      <td>0</td>\n",
              "      <td>0.65</td>\n",
              "    </tr>\n",
              "  </tbody>\n",
              "</table>\n",
              "</div>\n",
              "      <button class=\"colab-df-convert\" onclick=\"convertToInteractive('df-526f1e1c-a5d1-40f0-9b36-7f03034be387')\"\n",
              "              title=\"Convert this dataframe to an interactive table.\"\n",
              "              style=\"display:none;\">\n",
              "        \n",
              "  <svg xmlns=\"http://www.w3.org/2000/svg\" height=\"24px\"viewBox=\"0 0 24 24\"\n",
              "       width=\"24px\">\n",
              "    <path d=\"M0 0h24v24H0V0z\" fill=\"none\"/>\n",
              "    <path d=\"M18.56 5.44l.94 2.06.94-2.06 2.06-.94-2.06-.94-.94-2.06-.94 2.06-2.06.94zm-11 1L8.5 8.5l.94-2.06 2.06-.94-2.06-.94L8.5 2.5l-.94 2.06-2.06.94zm10 10l.94 2.06.94-2.06 2.06-.94-2.06-.94-.94-2.06-.94 2.06-2.06.94z\"/><path d=\"M17.41 7.96l-1.37-1.37c-.4-.4-.92-.59-1.43-.59-.52 0-1.04.2-1.43.59L10.3 9.45l-7.72 7.72c-.78.78-.78 2.05 0 2.83L4 21.41c.39.39.9.59 1.41.59.51 0 1.02-.2 1.41-.59l7.78-7.78 2.81-2.81c.8-.78.8-2.07 0-2.86zM5.41 20L4 18.59l7.72-7.72 1.47 1.35L5.41 20z\"/>\n",
              "  </svg>\n",
              "      </button>\n",
              "      \n",
              "  <style>\n",
              "    .colab-df-container {\n",
              "      display:flex;\n",
              "      flex-wrap:wrap;\n",
              "      gap: 12px;\n",
              "    }\n",
              "\n",
              "    .colab-df-convert {\n",
              "      background-color: #E8F0FE;\n",
              "      border: none;\n",
              "      border-radius: 50%;\n",
              "      cursor: pointer;\n",
              "      display: none;\n",
              "      fill: #1967D2;\n",
              "      height: 32px;\n",
              "      padding: 0 0 0 0;\n",
              "      width: 32px;\n",
              "    }\n",
              "\n",
              "    .colab-df-convert:hover {\n",
              "      background-color: #E2EBFA;\n",
              "      box-shadow: 0px 1px 2px rgba(60, 64, 67, 0.3), 0px 1px 3px 1px rgba(60, 64, 67, 0.15);\n",
              "      fill: #174EA6;\n",
              "    }\n",
              "\n",
              "    [theme=dark] .colab-df-convert {\n",
              "      background-color: #3B4455;\n",
              "      fill: #D2E3FC;\n",
              "    }\n",
              "\n",
              "    [theme=dark] .colab-df-convert:hover {\n",
              "      background-color: #434B5C;\n",
              "      box-shadow: 0px 1px 3px 1px rgba(0, 0, 0, 0.15);\n",
              "      filter: drop-shadow(0px 1px 2px rgba(0, 0, 0, 0.3));\n",
              "      fill: #FFFFFF;\n",
              "    }\n",
              "  </style>\n",
              "\n",
              "      <script>\n",
              "        const buttonEl =\n",
              "          document.querySelector('#df-526f1e1c-a5d1-40f0-9b36-7f03034be387 button.colab-df-convert');\n",
              "        buttonEl.style.display =\n",
              "          google.colab.kernel.accessAllowed ? 'block' : 'none';\n",
              "\n",
              "        async function convertToInteractive(key) {\n",
              "          const element = document.querySelector('#df-526f1e1c-a5d1-40f0-9b36-7f03034be387');\n",
              "          const dataTable =\n",
              "            await google.colab.kernel.invokeFunction('convertToInteractive',\n",
              "                                                     [key], {});\n",
              "          if (!dataTable) return;\n",
              "\n",
              "          const docLinkHtml = 'Like what you see? Visit the ' +\n",
              "            '<a target=\"_blank\" href=https://colab.research.google.com/notebooks/data_table.ipynb>data table notebook</a>'\n",
              "            + ' to learn more about interactive tables.';\n",
              "          element.innerHTML = '';\n",
              "          dataTable['output_type'] = 'display_data';\n",
              "          await google.colab.output.renderOutput(dataTable, element);\n",
              "          const docLink = document.createElement('div');\n",
              "          docLink.innerHTML = docLinkHtml;\n",
              "          element.appendChild(docLink);\n",
              "        }\n",
              "      </script>\n",
              "    </div>\n",
              "  </div>\n",
              "  "
            ]
          },
          "metadata": {},
          "execution_count": 48
        }
      ]
    },
    {
      "cell_type": "code",
      "source": [
        "traindf.drop(columns=['Serial No.'], inplace=True)"
      ],
      "metadata": {
        "id": "Cr8eaJOj-N_-"
      },
      "execution_count": 49,
      "outputs": []
    },
    {
      "cell_type": "code",
      "source": [
        "traindf.head()"
      ],
      "metadata": {
        "colab": {
          "base_uri": "https://localhost:8080/",
          "height": 206
        },
        "id": "JrxCjVc7-UaI",
        "outputId": "cbce19bf-04fa-4c96-fa54-625be9ba1e63"
      },
      "execution_count": 50,
      "outputs": [
        {
          "output_type": "execute_result",
          "data": {
            "text/plain": [
              "   GRE Score  TOEFL Score  University Rating  SOP  LOR   CGPA  Research  \\\n",
              "0        337          118                  4  4.5   4.5  9.65         1   \n",
              "1        324          107                  4  4.0   4.5  8.87         1   \n",
              "2        316          104                  3  3.0   3.5  8.00         1   \n",
              "3        322          110                  3  3.5   2.5  8.67         1   \n",
              "4        314          103                  2  2.0   3.0  8.21         0   \n",
              "\n",
              "   Chance of Admit   \n",
              "0              0.92  \n",
              "1              0.76  \n",
              "2              0.72  \n",
              "3              0.80  \n",
              "4              0.65  "
            ],
            "text/html": [
              "\n",
              "  <div id=\"df-31cc06c9-6483-433c-974d-6db5b1cef0f2\">\n",
              "    <div class=\"colab-df-container\">\n",
              "      <div>\n",
              "<style scoped>\n",
              "    .dataframe tbody tr th:only-of-type {\n",
              "        vertical-align: middle;\n",
              "    }\n",
              "\n",
              "    .dataframe tbody tr th {\n",
              "        vertical-align: top;\n",
              "    }\n",
              "\n",
              "    .dataframe thead th {\n",
              "        text-align: right;\n",
              "    }\n",
              "</style>\n",
              "<table border=\"1\" class=\"dataframe\">\n",
              "  <thead>\n",
              "    <tr style=\"text-align: right;\">\n",
              "      <th></th>\n",
              "      <th>GRE Score</th>\n",
              "      <th>TOEFL Score</th>\n",
              "      <th>University Rating</th>\n",
              "      <th>SOP</th>\n",
              "      <th>LOR</th>\n",
              "      <th>CGPA</th>\n",
              "      <th>Research</th>\n",
              "      <th>Chance of Admit</th>\n",
              "    </tr>\n",
              "  </thead>\n",
              "  <tbody>\n",
              "    <tr>\n",
              "      <th>0</th>\n",
              "      <td>337</td>\n",
              "      <td>118</td>\n",
              "      <td>4</td>\n",
              "      <td>4.5</td>\n",
              "      <td>4.5</td>\n",
              "      <td>9.65</td>\n",
              "      <td>1</td>\n",
              "      <td>0.92</td>\n",
              "    </tr>\n",
              "    <tr>\n",
              "      <th>1</th>\n",
              "      <td>324</td>\n",
              "      <td>107</td>\n",
              "      <td>4</td>\n",
              "      <td>4.0</td>\n",
              "      <td>4.5</td>\n",
              "      <td>8.87</td>\n",
              "      <td>1</td>\n",
              "      <td>0.76</td>\n",
              "    </tr>\n",
              "    <tr>\n",
              "      <th>2</th>\n",
              "      <td>316</td>\n",
              "      <td>104</td>\n",
              "      <td>3</td>\n",
              "      <td>3.0</td>\n",
              "      <td>3.5</td>\n",
              "      <td>8.00</td>\n",
              "      <td>1</td>\n",
              "      <td>0.72</td>\n",
              "    </tr>\n",
              "    <tr>\n",
              "      <th>3</th>\n",
              "      <td>322</td>\n",
              "      <td>110</td>\n",
              "      <td>3</td>\n",
              "      <td>3.5</td>\n",
              "      <td>2.5</td>\n",
              "      <td>8.67</td>\n",
              "      <td>1</td>\n",
              "      <td>0.80</td>\n",
              "    </tr>\n",
              "    <tr>\n",
              "      <th>4</th>\n",
              "      <td>314</td>\n",
              "      <td>103</td>\n",
              "      <td>2</td>\n",
              "      <td>2.0</td>\n",
              "      <td>3.0</td>\n",
              "      <td>8.21</td>\n",
              "      <td>0</td>\n",
              "      <td>0.65</td>\n",
              "    </tr>\n",
              "  </tbody>\n",
              "</table>\n",
              "</div>\n",
              "      <button class=\"colab-df-convert\" onclick=\"convertToInteractive('df-31cc06c9-6483-433c-974d-6db5b1cef0f2')\"\n",
              "              title=\"Convert this dataframe to an interactive table.\"\n",
              "              style=\"display:none;\">\n",
              "        \n",
              "  <svg xmlns=\"http://www.w3.org/2000/svg\" height=\"24px\"viewBox=\"0 0 24 24\"\n",
              "       width=\"24px\">\n",
              "    <path d=\"M0 0h24v24H0V0z\" fill=\"none\"/>\n",
              "    <path d=\"M18.56 5.44l.94 2.06.94-2.06 2.06-.94-2.06-.94-.94-2.06-.94 2.06-2.06.94zm-11 1L8.5 8.5l.94-2.06 2.06-.94-2.06-.94L8.5 2.5l-.94 2.06-2.06.94zm10 10l.94 2.06.94-2.06 2.06-.94-2.06-.94-.94-2.06-.94 2.06-2.06.94z\"/><path d=\"M17.41 7.96l-1.37-1.37c-.4-.4-.92-.59-1.43-.59-.52 0-1.04.2-1.43.59L10.3 9.45l-7.72 7.72c-.78.78-.78 2.05 0 2.83L4 21.41c.39.39.9.59 1.41.59.51 0 1.02-.2 1.41-.59l7.78-7.78 2.81-2.81c.8-.78.8-2.07 0-2.86zM5.41 20L4 18.59l7.72-7.72 1.47 1.35L5.41 20z\"/>\n",
              "  </svg>\n",
              "      </button>\n",
              "      \n",
              "  <style>\n",
              "    .colab-df-container {\n",
              "      display:flex;\n",
              "      flex-wrap:wrap;\n",
              "      gap: 12px;\n",
              "    }\n",
              "\n",
              "    .colab-df-convert {\n",
              "      background-color: #E8F0FE;\n",
              "      border: none;\n",
              "      border-radius: 50%;\n",
              "      cursor: pointer;\n",
              "      display: none;\n",
              "      fill: #1967D2;\n",
              "      height: 32px;\n",
              "      padding: 0 0 0 0;\n",
              "      width: 32px;\n",
              "    }\n",
              "\n",
              "    .colab-df-convert:hover {\n",
              "      background-color: #E2EBFA;\n",
              "      box-shadow: 0px 1px 2px rgba(60, 64, 67, 0.3), 0px 1px 3px 1px rgba(60, 64, 67, 0.15);\n",
              "      fill: #174EA6;\n",
              "    }\n",
              "\n",
              "    [theme=dark] .colab-df-convert {\n",
              "      background-color: #3B4455;\n",
              "      fill: #D2E3FC;\n",
              "    }\n",
              "\n",
              "    [theme=dark] .colab-df-convert:hover {\n",
              "      background-color: #434B5C;\n",
              "      box-shadow: 0px 1px 3px 1px rgba(0, 0, 0, 0.15);\n",
              "      filter: drop-shadow(0px 1px 2px rgba(0, 0, 0, 0.3));\n",
              "      fill: #FFFFFF;\n",
              "    }\n",
              "  </style>\n",
              "\n",
              "      <script>\n",
              "        const buttonEl =\n",
              "          document.querySelector('#df-31cc06c9-6483-433c-974d-6db5b1cef0f2 button.colab-df-convert');\n",
              "        buttonEl.style.display =\n",
              "          google.colab.kernel.accessAllowed ? 'block' : 'none';\n",
              "\n",
              "        async function convertToInteractive(key) {\n",
              "          const element = document.querySelector('#df-31cc06c9-6483-433c-974d-6db5b1cef0f2');\n",
              "          const dataTable =\n",
              "            await google.colab.kernel.invokeFunction('convertToInteractive',\n",
              "                                                     [key], {});\n",
              "          if (!dataTable) return;\n",
              "\n",
              "          const docLinkHtml = 'Like what you see? Visit the ' +\n",
              "            '<a target=\"_blank\" href=https://colab.research.google.com/notebooks/data_table.ipynb>data table notebook</a>'\n",
              "            + ' to learn more about interactive tables.';\n",
              "          element.innerHTML = '';\n",
              "          dataTable['output_type'] = 'display_data';\n",
              "          await google.colab.output.renderOutput(dataTable, element);\n",
              "          const docLink = document.createElement('div');\n",
              "          docLink.innerHTML = docLinkHtml;\n",
              "          element.appendChild(docLink);\n",
              "        }\n",
              "      </script>\n",
              "    </div>\n",
              "  </div>\n",
              "  "
            ]
          },
          "metadata": {},
          "execution_count": 50
        }
      ]
    },
    {
      "cell_type": "code",
      "source": [
        "y = traindf.iloc[:, -1]"
      ],
      "metadata": {
        "id": "WycbRLwy-sOW"
      },
      "execution_count": 51,
      "outputs": []
    },
    {
      "cell_type": "code",
      "source": [
        "X = traindf.iloc[:, :-1]"
      ],
      "metadata": {
        "id": "FZAcFWIqBNdQ"
      },
      "execution_count": 52,
      "outputs": []
    },
    {
      "cell_type": "code",
      "source": [
        "from sklearn.model_selection import train_test_split\n",
        "\n",
        "X_train, X_test, y_train, y_test = train_test_split(X, y, test_size=0.2, random_state=24)\n"
      ],
      "metadata": {
        "id": "wDl4rlRH-VSv"
      },
      "execution_count": 53,
      "outputs": []
    },
    {
      "cell_type": "code",
      "source": [
        "X_train.shape"
      ],
      "metadata": {
        "colab": {
          "base_uri": "https://localhost:8080/"
        },
        "id": "1oYMNzQdCURI",
        "outputId": "339a759f-8ea7-45a8-ace5-ef976b9a3d51"
      },
      "execution_count": 54,
      "outputs": [
        {
          "output_type": "execute_result",
          "data": {
            "text/plain": [
              "(320, 7)"
            ]
          },
          "metadata": {},
          "execution_count": 54
        }
      ]
    },
    {
      "cell_type": "code",
      "source": [
        "X_test.shape"
      ],
      "metadata": {
        "colab": {
          "base_uri": "https://localhost:8080/"
        },
        "id": "liwqUdU8CXJ4",
        "outputId": "53533ac2-cd7f-4ab5-f5d9-9d50508f0f16"
      },
      "execution_count": 55,
      "outputs": [
        {
          "output_type": "execute_result",
          "data": {
            "text/plain": [
              "(80, 7)"
            ]
          },
          "metadata": {},
          "execution_count": 55
        }
      ]
    },
    {
      "cell_type": "code",
      "source": [
        "from sklearn.preprocessing import MinMaxScaler\n",
        "\n",
        "scaler = MinMaxScaler()\n"
      ],
      "metadata": {
        "id": "AdFo5roE-na_"
      },
      "execution_count": 56,
      "outputs": []
    },
    {
      "cell_type": "code",
      "source": [
        "X_train_scaled = scaler.fit_transform(X_train)\n",
        "X_test_scaled = scaler.transform(X_test)"
      ],
      "metadata": {
        "id": "Qc4rIhTECFJB"
      },
      "execution_count": 57,
      "outputs": []
    },
    {
      "cell_type": "code",
      "source": [
        "X_train_scaled"
      ],
      "metadata": {
        "colab": {
          "base_uri": "https://localhost:8080/"
        },
        "id": "WqljI5qzCPvA",
        "outputId": "3e76e5d3-2dc6-4c27-a905-09bb68234a64"
      },
      "execution_count": 58,
      "outputs": [
        {
          "output_type": "execute_result",
          "data": {
            "text/plain": [
              "array([[0.52      , 0.64285714, 0.5       , ..., 0.875     , 0.63461538,\n",
              "        1.        ],\n",
              "       [0.58      , 0.5       , 0.5       , ..., 0.5       , 0.38461538,\n",
              "        1.        ],\n",
              "       [0.7       , 0.67857143, 0.5       , ..., 0.625     , 0.60897436,\n",
              "        0.        ],\n",
              "       ...,\n",
              "       [0.3       , 0.39285714, 0.25      , ..., 0.625     , 0.42628205,\n",
              "        0.        ],\n",
              "       [0.64      , 0.78571429, 1.        , ..., 0.75      , 0.68589744,\n",
              "        1.        ],\n",
              "       [0.34      , 0.46428571, 0.25      , ..., 0.625     , 0.41666667,\n",
              "        0.        ]])"
            ]
          },
          "metadata": {},
          "execution_count": 58
        }
      ]
    },
    {
      "cell_type": "code",
      "source": [
        "X_test_scaled"
      ],
      "metadata": {
        "colab": {
          "base_uri": "https://localhost:8080/"
        },
        "id": "fsxZ_OZ6CKMA",
        "outputId": "b373d590-35ec-44ea-a24c-3a3bd67a41e4"
      },
      "execution_count": 59,
      "outputs": [
        {
          "output_type": "execute_result",
          "data": {
            "text/plain": [
              "array([[0.4       , 0.5       , 0.75      , 0.875     , 0.875     ,\n",
              "        0.71794872, 1.        ],\n",
              "       [0.54      , 0.53571429, 0.5       , 0.625     , 0.5       ,\n",
              "        0.6025641 , 1.        ],\n",
              "       [0.6       , 0.42857143, 0.5       , 0.625     , 0.875     ,\n",
              "        0.49358974, 1.        ],\n",
              "       [1.        , 1.        , 0.75      , 1.        , 1.        ,\n",
              "        0.86538462, 1.        ],\n",
              "       [0.3       , 0.46428571, 0.25      , 0.5       , 0.75      ,\n",
              "        0.42628205, 0.        ],\n",
              "       [0.22      , 0.42857143, 0.25      , 0.625     , 0.625     ,\n",
              "        0.34935897, 1.        ],\n",
              "       [0.74      , 0.71428571, 0.5       , 0.5       , 0.5       ,\n",
              "        0.61538462, 1.        ],\n",
              "       [0.34      , 0.35714286, 0.5       , 0.5       , 0.5       ,\n",
              "        0.47115385, 0.        ],\n",
              "       [0.68      , 0.71428571, 0.75      , 0.75      , 0.625     ,\n",
              "        0.63141026, 1.        ],\n",
              "       [0.62      , 0.64285714, 0.5       , 0.625     , 1.        ,\n",
              "        0.65705128, 1.        ],\n",
              "       [0.5       , 0.25      , 0.25      , 0.625     , 0.5       ,\n",
              "        0.34935897, 0.        ],\n",
              "       [0.56      , 0.60714286, 0.5       , 0.5       , 0.5       ,\n",
              "        0.54487179, 0.        ],\n",
              "       [0.44      , 0.39285714, 0.5       , 1.        , 0.75      ,\n",
              "        0.52884615, 0.        ],\n",
              "       [0.74      , 0.39285714, 0.5       , 0.75      , 0.75      ,\n",
              "        0.48076923, 1.        ],\n",
              "       [0.76      , 0.85714286, 1.        , 1.        , 1.        ,\n",
              "        0.86538462, 1.        ],\n",
              "       [0.62      , 0.60714286, 0.5       , 0.5       , 0.75      ,\n",
              "        0.44871795, 1.        ],\n",
              "       [0.62      , 0.53571429, 0.25      , 0.25      , 0.125     ,\n",
              "        0.52564103, 0.        ],\n",
              "       [0.52      , 0.32142857, 0.25      , 0.375     , 0.25      ,\n",
              "        0.48717949, 1.        ],\n",
              "       [0.82      , 0.82142857, 1.        , 0.875     , 0.625     ,\n",
              "        0.82051282, 1.        ],\n",
              "       [0.2       , 0.28571429, 0.5       , 0.25      , 0.5       ,\n",
              "        0.59615385, 1.        ],\n",
              "       [0.64      , 0.53571429, 0.5       , 0.625     , 0.625     ,\n",
              "        0.53205128, 1.        ],\n",
              "       [0.34      , 0.32142857, 0.5       , 0.75      , 0.5       ,\n",
              "        0.44871795, 0.        ],\n",
              "       [0.2       , 0.46428571, 0.        , 0.        , 0.25      ,\n",
              "        0.32051282, 0.        ],\n",
              "       [0.18      , 0.28571429, 0.        , 0.125     , 0.25      ,\n",
              "        0.34935897, 0.        ],\n",
              "       [0.26      , 0.35714286, 0.5       , 0.625     , 0.5       ,\n",
              "        0.54487179, 0.        ],\n",
              "       [0.72      , 0.75      , 1.        , 0.875     , 0.75      ,\n",
              "        0.83333333, 1.        ],\n",
              "       [0.48      , 0.57142857, 0.5       , 0.875     , 0.625     ,\n",
              "        0.42948718, 0.        ],\n",
              "       [0.        , 0.28571429, 0.        , 0.125     , 0.25      ,\n",
              "        0.24358974, 0.        ],\n",
              "       [0.44      , 0.42857143, 0.5       , 0.625     , 0.625     ,\n",
              "        0.51923077, 0.        ],\n",
              "       [0.4       , 0.25      , 0.25      , 0.125     , 0.25      ,\n",
              "        0.16025641, 0.        ],\n",
              "       [0.88      , 0.78571429, 0.75      , 0.75      , 0.75      ,\n",
              "        0.84294872, 1.        ],\n",
              "       [1.        , 1.        , 1.        , 0.875     , 0.875     ,\n",
              "        0.8974359 , 1.        ],\n",
              "       [0.94      , 0.92857143, 0.75      , 0.875     , 0.875     ,\n",
              "        0.91346154, 1.        ],\n",
              "       [0.1       , 0.25      , 0.25      , 0.375     , 0.5       ,\n",
              "        0.2724359 , 0.        ],\n",
              "       [0.52      , 0.5       , 0.25      , 0.375     , 0.75      ,\n",
              "        0.48717949, 0.        ],\n",
              "       [0.54      , 0.28571429, 0.25      , 0.5       , 0.375     ,\n",
              "        0.56730769, 0.        ],\n",
              "       [0.68      , 0.67857143, 0.5       , 0.375     , 0.25      ,\n",
              "        0.64102564, 1.        ],\n",
              "       [0.64      , 0.64285714, 1.        , 0.875     , 0.75      ,\n",
              "        0.69551282, 0.        ],\n",
              "       [0.44      , 0.53571429, 0.5       , 0.5       , 0.5       ,\n",
              "        0.53205128, 1.        ],\n",
              "       [0.64      , 0.64285714, 0.5       , 0.75      , 1.        ,\n",
              "        0.58974359, 1.        ],\n",
              "       [0.44      , 0.60714286, 0.5       , 0.5       , 0.5       ,\n",
              "        0.60576923, 0.        ],\n",
              "       [0.62      , 0.60714286, 0.5       , 0.625     , 0.625     ,\n",
              "        0.64102564, 1.        ],\n",
              "       [0.9       , 0.92857143, 1.        , 0.875     , 0.625     ,\n",
              "        0.84615385, 1.        ],\n",
              "       [0.54      , 0.5       , 0.5       , 0.75      , 0.625     ,\n",
              "        0.54487179, 1.        ],\n",
              "       [0.72      , 0.67857143, 1.        , 0.875     , 0.75      ,\n",
              "        0.77884615, 1.        ],\n",
              "       [0.68      , 0.53571429, 1.        , 0.625     , 0.75      ,\n",
              "        0.59615385, 1.        ],\n",
              "       [0.46      , 0.5       , 0.25      , 0.375     , 0.25      ,\n",
              "        0.5224359 , 0.        ],\n",
              "       [0.7       , 0.53571429, 0.5       , 0.5       , 0.625     ,\n",
              "        0.74038462, 1.        ],\n",
              "       [0.56      , 0.28571429, 0.25      , 0.375     , 0.625     ,\n",
              "        0.55769231, 1.        ],\n",
              "       [0.44      , 0.53571429, 0.75      , 0.875     , 0.75      ,\n",
              "        0.59294872, 1.        ],\n",
              "       [0.5       , 0.42857143, 0.5       , 0.5       , 0.375     ,\n",
              "        0.49038462, 0.        ],\n",
              "       [0.56      , 0.53571429, 0.5       , 0.5       , 0.625     ,\n",
              "        0.47115385, 1.        ],\n",
              "       [0.42      , 0.42857143, 0.25      , 0.375     , 0.625     ,\n",
              "        0.53846154, 0.        ],\n",
              "       [0.58      , 0.64285714, 0.5       , 0.625     , 0.625     ,\n",
              "        0.71794872, 0.        ],\n",
              "       [0.46      , 0.39285714, 0.5       , 0.75      , 0.75      ,\n",
              "        0.625     , 0.        ],\n",
              "       [0.22      , 0.28571429, 0.5       , 0.625     , 0.5       ,\n",
              "        0.3974359 , 0.        ],\n",
              "       [0.4       , 0.53571429, 0.5       , 0.625     , 0.625     ,\n",
              "        0.59935897, 0.        ],\n",
              "       [0.74      , 0.75      , 0.75      , 0.875     , 0.875     ,\n",
              "        0.74038462, 1.        ],\n",
              "       [0.42      , 0.46428571, 0.5       , 0.625     , 0.5       ,\n",
              "        0.52884615, 1.        ],\n",
              "       [0.48      , 0.64285714, 0.5       , 0.75      , 0.75      ,\n",
              "        0.64102564, 0.        ],\n",
              "       [0.58      , 0.71428571, 0.5       , 0.375     , 0.25      ,\n",
              "        0.61217949, 1.        ],\n",
              "       [0.78      , 0.78571429, 1.        , 0.75      , 1.        ,\n",
              "        0.80128205, 1.        ],\n",
              "       [0.1       , 0.32142857, 0.25      , 0.375     , 0.25      ,\n",
              "        0.33974359, 0.        ],\n",
              "       [0.62      , 0.71428571, 1.        , 1.        , 1.        ,\n",
              "        0.72435897, 1.        ],\n",
              "       [0.5       , 0.46428571, 0.25      , 0.25      , 0.375     ,\n",
              "        0.2724359 , 0.        ],\n",
              "       [0.72      , 0.57142857, 0.5       , 0.5       , 0.625     ,\n",
              "        0.66987179, 0.        ],\n",
              "       [0.68      , 0.78571429, 1.        , 1.        , 0.875     ,\n",
              "        0.73076923, 1.        ],\n",
              "       [0.62      , 0.67857143, 1.        , 1.        , 1.        ,\n",
              "        0.84935897, 1.        ],\n",
              "       [0.12      , 0.25      , 0.25      , 0.5       , 0.625     ,\n",
              "        0.15384615, 0.        ],\n",
              "       [0.54      , 0.53571429, 0.5       , 0.75      , 0.5       ,\n",
              "        0.60897436, 0.        ],\n",
              "       [0.84      , 0.92857143, 1.        , 1.        , 1.        ,\n",
              "        0.91025641, 1.        ],\n",
              "       [0.48      , 0.46428571, 0.5       , 0.625     , 0.375     ,\n",
              "        0.48076923, 0.        ],\n",
              "       [0.62      , 0.60714286, 0.75      , 0.75      , 0.75      ,\n",
              "        0.6025641 , 1.        ],\n",
              "       [0.72      , 0.71428571, 0.5       , 0.625     , 0.5       ,\n",
              "        0.72115385, 1.        ],\n",
              "       [0.22      , 0.25      , 0.25      , 0.5       , 0.25      ,\n",
              "        0.45512821, 0.        ],\n",
              "       [0.46      , 0.42857143, 0.5       , 0.75      , 0.875     ,\n",
              "        0.59294872, 0.        ],\n",
              "       [0.3       , 0.71428571, 0.5       , 0.5       , 0.625     ,\n",
              "        0.59294872, 0.        ],\n",
              "       [0.6       , 0.64285714, 1.        , 1.        , 0.875     ,\n",
              "        0.77564103, 1.        ],\n",
              "       [0.68      , 0.28571429, 0.5       , 0.75      , 1.        ,\n",
              "        0.58974359, 1.        ],\n",
              "       [0.48      , 0.53571429, 0.5       , 0.5       , 0.625     ,\n",
              "        0.43910256, 1.        ]])"
            ]
          },
          "metadata": {},
          "execution_count": 59
        }
      ]
    },
    {
      "cell_type": "code",
      "source": [
        "model = Sequential()\n",
        "\n",
        "model.add(Dense(7, activation='relu', input_dim=7))\n",
        "model.add(Dense(1, activation='linear'))\n"
      ],
      "metadata": {
        "id": "Ni8a7QW_CguJ"
      },
      "execution_count": 60,
      "outputs": []
    },
    {
      "cell_type": "code",
      "source": [
        "model.compile(loss='mean_squared_error',  optimizer='Adam', metrics=['accuracy'])"
      ],
      "metadata": {
        "id": "tDHHpmZbC7GI"
      },
      "execution_count": 61,
      "outputs": []
    },
    {
      "cell_type": "code",
      "source": [
        "model.summary()"
      ],
      "metadata": {
        "colab": {
          "base_uri": "https://localhost:8080/"
        },
        "id": "sSGGG1NXDIEZ",
        "outputId": "321b5d05-6810-4f63-e2e2-4473920513fe"
      },
      "execution_count": 62,
      "outputs": [
        {
          "output_type": "stream",
          "name": "stdout",
          "text": [
            "Model: \"sequential_1\"\n",
            "_________________________________________________________________\n",
            " Layer (type)                Output Shape              Param #   \n",
            "=================================================================\n",
            " dense_2 (Dense)             (None, 7)                 56        \n",
            "                                                                 \n",
            " dense_3 (Dense)             (None, 1)                 8         \n",
            "                                                                 \n",
            "=================================================================\n",
            "Total params: 64\n",
            "Trainable params: 64\n",
            "Non-trainable params: 0\n",
            "_________________________________________________________________\n"
          ]
        }
      ]
    },
    {
      "cell_type": "code",
      "source": [
        "model.fit(X_train_scaled, y_train, epochs=10, validation_split=0.2)"
      ],
      "metadata": {
        "colab": {
          "base_uri": "https://localhost:8080/"
        },
        "id": "LlTM97EIDJr4",
        "outputId": "cb712266-1957-4f9c-a702-22df404124af"
      },
      "execution_count": 63,
      "outputs": [
        {
          "output_type": "stream",
          "name": "stdout",
          "text": [
            "Epoch 1/10\n",
            "8/8 [==============================] - 1s 26ms/step - loss: 0.4614 - accuracy: 0.0000e+00 - val_loss: 0.3443 - val_accuracy: 0.0000e+00\n",
            "Epoch 2/10\n",
            "8/8 [==============================] - 0s 8ms/step - loss: 0.3539 - accuracy: 0.0000e+00 - val_loss: 0.2601 - val_accuracy: 0.0000e+00\n",
            "Epoch 3/10\n",
            "8/8 [==============================] - 0s 6ms/step - loss: 0.2666 - accuracy: 0.0000e+00 - val_loss: 0.1894 - val_accuracy: 0.0000e+00\n",
            "Epoch 4/10\n",
            "8/8 [==============================] - 0s 5ms/step - loss: 0.1920 - accuracy: 0.0000e+00 - val_loss: 0.1341 - val_accuracy: 0.0000e+00\n",
            "Epoch 5/10\n",
            "8/8 [==============================] - 0s 6ms/step - loss: 0.1353 - accuracy: 0.0000e+00 - val_loss: 0.0926 - val_accuracy: 0.0000e+00\n",
            "Epoch 6/10\n",
            "8/8 [==============================] - 0s 5ms/step - loss: 0.0924 - accuracy: 0.0000e+00 - val_loss: 0.0642 - val_accuracy: 0.0000e+00\n",
            "Epoch 7/10\n",
            "8/8 [==============================] - 0s 5ms/step - loss: 0.0637 - accuracy: 0.0000e+00 - val_loss: 0.0456 - val_accuracy: 0.0000e+00\n",
            "Epoch 8/10\n",
            "8/8 [==============================] - 0s 5ms/step - loss: 0.0448 - accuracy: 0.0000e+00 - val_loss: 0.0349 - val_accuracy: 0.0000e+00\n",
            "Epoch 9/10\n",
            "8/8 [==============================] - 0s 7ms/step - loss: 0.0344 - accuracy: 0.0000e+00 - val_loss: 0.0292 - val_accuracy: 0.0000e+00\n",
            "Epoch 10/10\n",
            "8/8 [==============================] - 0s 6ms/step - loss: 0.0286 - accuracy: 0.0000e+00 - val_loss: 0.0268 - val_accuracy: 0.0000e+00\n"
          ]
        },
        {
          "output_type": "execute_result",
          "data": {
            "text/plain": [
              "<keras.callbacks.History at 0x7f04ced96690>"
            ]
          },
          "metadata": {},
          "execution_count": 63
        }
      ]
    },
    {
      "cell_type": "code",
      "source": [
        "y_pred = model.predict(X_test_scaled)"
      ],
      "metadata": {
        "id": "K-NPjqzwDshQ"
      },
      "execution_count": 64,
      "outputs": []
    },
    {
      "cell_type": "code",
      "source": [
        "y_pred"
      ],
      "metadata": {
        "colab": {
          "base_uri": "https://localhost:8080/"
        },
        "id": "sLeakse7Dxd_",
        "outputId": "a59d0d50-6732-4350-8bfc-b7e4baacc0c4"
      },
      "execution_count": 65,
      "outputs": [
        {
          "output_type": "execute_result",
          "data": {
            "text/plain": [
              "array([[0.5666926 ],\n",
              "       [0.50631803],\n",
              "       [0.7077995 ],\n",
              "       [0.9994323 ],\n",
              "       [0.6737389 ],\n",
              "       [0.21395963],\n",
              "       [0.66115123],\n",
              "       [0.65639526],\n",
              "       [0.6147351 ],\n",
              "       [0.8000721 ],\n",
              "       [0.6933013 ],\n",
              "       [0.80648106],\n",
              "       [0.66987896],\n",
              "       [0.72458845],\n",
              "       [0.86299706],\n",
              "       [0.6343575 ],\n",
              "       [0.734141  ],\n",
              "       [0.45388123],\n",
              "       [0.7635549 ],\n",
              "       [0.41794917],\n",
              "       [0.60935146],\n",
              "       [0.5608193 ],\n",
              "       [0.5316023 ],\n",
              "       [0.5292869 ],\n",
              "       [0.6052501 ],\n",
              "       [0.76812667],\n",
              "       [0.65095425],\n",
              "       [0.34416962],\n",
              "       [0.75809   ],\n",
              "       [0.5648334 ],\n",
              "       [0.9157242 ],\n",
              "       [1.0140761 ],\n",
              "       [0.9754699 ],\n",
              "       [0.42204702],\n",
              "       [0.91180605],\n",
              "       [0.8007466 ],\n",
              "       [0.5890344 ],\n",
              "       [0.9551244 ],\n",
              "       [0.42919973],\n",
              "       [0.743306  ],\n",
              "       [0.7629407 ],\n",
              "       [0.6244022 ],\n",
              "       [0.8102461 ],\n",
              "       [0.5032347 ],\n",
              "       [0.76256645],\n",
              "       [0.76675385],\n",
              "       [0.71700585],\n",
              "       [0.79740393],\n",
              "       [0.69186485],\n",
              "       [0.47069842],\n",
              "       [0.7159204 ],\n",
              "       [0.55707484],\n",
              "       [0.81572574],\n",
              "       [0.9325587 ],\n",
              "       [0.8523832 ],\n",
              "       [0.50334305],\n",
              "       [0.7495133 ],\n",
              "       [0.7822012 ],\n",
              "       [0.39038774],\n",
              "       [0.8294206 ],\n",
              "       [0.50108534],\n",
              "       [0.95156455],\n",
              "       [0.38784748],\n",
              "       [0.7233723 ],\n",
              "       [0.66747725],\n",
              "       [1.0568724 ],\n",
              "       [0.6954693 ],\n",
              "       [0.7923716 ],\n",
              "       [0.4004955 ],\n",
              "       [0.79286766],\n",
              "       [0.9288197 ],\n",
              "       [0.6704998 ],\n",
              "       [0.6421246 ],\n",
              "       [0.68278736],\n",
              "       [0.52224547],\n",
              "       [0.88660014],\n",
              "       [0.6849113 ],\n",
              "       [0.6920879 ],\n",
              "       [0.8763502 ],\n",
              "       [0.47716743]], dtype=float32)"
            ]
          },
          "metadata": {},
          "execution_count": 65
        }
      ]
    },
    {
      "cell_type": "code",
      "source": [
        "from sklearn.metrics import r2_score\n",
        "\n",
        "r2_score(y_pred, y_test)"
      ],
      "metadata": {
        "colab": {
          "base_uri": "https://localhost:8080/"
        },
        "id": "9EzJrYP-DeDQ",
        "outputId": "3971b71a-992e-48bd-b712-9c8280bab718"
      },
      "execution_count": 67,
      "outputs": [
        {
          "output_type": "execute_result",
          "data": {
            "text/plain": [
              "0.23613422840410558"
            ]
          },
          "metadata": {},
          "execution_count": 67
        }
      ]
    }
  ]
}