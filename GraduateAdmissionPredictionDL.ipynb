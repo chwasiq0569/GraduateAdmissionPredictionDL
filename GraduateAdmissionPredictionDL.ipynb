{
  "nbformat": 4,
  "nbformat_minor": 0,
  "metadata": {
    "colab": {
      "provenance": [],
      "collapsed_sections": []
    },
    "kernelspec": {
      "name": "python3",
      "display_name": "Python 3"
    },
    "language_info": {
      "name": "python"
    }
  },
  "cells": [
    {
      "cell_type": "code",
      "execution_count": 1,
      "metadata": {
        "id": "NWF0Jl78845L"
      },
      "outputs": [],
      "source": [
        "import pandas as pd\n",
        "import numpy as np\n",
        "import matplotlib.pyplot as plt\n",
        "import tensorflow\n",
        "from tensorflow.keras import Sequential\n",
        "from tensorflow.keras.layers import Dense "
      ]
    },
    {
      "cell_type": "code",
      "source": [
        "traindf = pd.read_csv('/content/Admission_Predict.csv')"
      ],
      "metadata": {
        "id": "aKl9Co4t953w"
      },
      "execution_count": 2,
      "outputs": []
    },
    {
      "cell_type": "code",
      "source": [
        "traindf.head()"
      ],
      "metadata": {
        "colab": {
          "base_uri": "https://localhost:8080/",
          "height": 206
        },
        "id": "yfJogV4t-MtX",
        "outputId": "2ca74543-1fa9-404d-c962-ef692dce9a58"
      },
      "execution_count": 3,
      "outputs": [
        {
          "output_type": "execute_result",
          "data": {
            "text/plain": [
              "   Serial No.  GRE Score  TOEFL Score  University Rating  SOP  LOR   CGPA  \\\n",
              "0           1        337          118                  4  4.5   4.5  9.65   \n",
              "1           2        324          107                  4  4.0   4.5  8.87   \n",
              "2           3        316          104                  3  3.0   3.5  8.00   \n",
              "3           4        322          110                  3  3.5   2.5  8.67   \n",
              "4           5        314          103                  2  2.0   3.0  8.21   \n",
              "\n",
              "   Research  Chance of Admit   \n",
              "0         1              0.92  \n",
              "1         1              0.76  \n",
              "2         1              0.72  \n",
              "3         1              0.80  \n",
              "4         0              0.65  "
            ],
            "text/html": [
              "\n",
              "  <div id=\"df-cf959f3c-327b-42c3-812f-36fe6f29401b\">\n",
              "    <div class=\"colab-df-container\">\n",
              "      <div>\n",
              "<style scoped>\n",
              "    .dataframe tbody tr th:only-of-type {\n",
              "        vertical-align: middle;\n",
              "    }\n",
              "\n",
              "    .dataframe tbody tr th {\n",
              "        vertical-align: top;\n",
              "    }\n",
              "\n",
              "    .dataframe thead th {\n",
              "        text-align: right;\n",
              "    }\n",
              "</style>\n",
              "<table border=\"1\" class=\"dataframe\">\n",
              "  <thead>\n",
              "    <tr style=\"text-align: right;\">\n",
              "      <th></th>\n",
              "      <th>Serial No.</th>\n",
              "      <th>GRE Score</th>\n",
              "      <th>TOEFL Score</th>\n",
              "      <th>University Rating</th>\n",
              "      <th>SOP</th>\n",
              "      <th>LOR</th>\n",
              "      <th>CGPA</th>\n",
              "      <th>Research</th>\n",
              "      <th>Chance of Admit</th>\n",
              "    </tr>\n",
              "  </thead>\n",
              "  <tbody>\n",
              "    <tr>\n",
              "      <th>0</th>\n",
              "      <td>1</td>\n",
              "      <td>337</td>\n",
              "      <td>118</td>\n",
              "      <td>4</td>\n",
              "      <td>4.5</td>\n",
              "      <td>4.5</td>\n",
              "      <td>9.65</td>\n",
              "      <td>1</td>\n",
              "      <td>0.92</td>\n",
              "    </tr>\n",
              "    <tr>\n",
              "      <th>1</th>\n",
              "      <td>2</td>\n",
              "      <td>324</td>\n",
              "      <td>107</td>\n",
              "      <td>4</td>\n",
              "      <td>4.0</td>\n",
              "      <td>4.5</td>\n",
              "      <td>8.87</td>\n",
              "      <td>1</td>\n",
              "      <td>0.76</td>\n",
              "    </tr>\n",
              "    <tr>\n",
              "      <th>2</th>\n",
              "      <td>3</td>\n",
              "      <td>316</td>\n",
              "      <td>104</td>\n",
              "      <td>3</td>\n",
              "      <td>3.0</td>\n",
              "      <td>3.5</td>\n",
              "      <td>8.00</td>\n",
              "      <td>1</td>\n",
              "      <td>0.72</td>\n",
              "    </tr>\n",
              "    <tr>\n",
              "      <th>3</th>\n",
              "      <td>4</td>\n",
              "      <td>322</td>\n",
              "      <td>110</td>\n",
              "      <td>3</td>\n",
              "      <td>3.5</td>\n",
              "      <td>2.5</td>\n",
              "      <td>8.67</td>\n",
              "      <td>1</td>\n",
              "      <td>0.80</td>\n",
              "    </tr>\n",
              "    <tr>\n",
              "      <th>4</th>\n",
              "      <td>5</td>\n",
              "      <td>314</td>\n",
              "      <td>103</td>\n",
              "      <td>2</td>\n",
              "      <td>2.0</td>\n",
              "      <td>3.0</td>\n",
              "      <td>8.21</td>\n",
              "      <td>0</td>\n",
              "      <td>0.65</td>\n",
              "    </tr>\n",
              "  </tbody>\n",
              "</table>\n",
              "</div>\n",
              "      <button class=\"colab-df-convert\" onclick=\"convertToInteractive('df-cf959f3c-327b-42c3-812f-36fe6f29401b')\"\n",
              "              title=\"Convert this dataframe to an interactive table.\"\n",
              "              style=\"display:none;\">\n",
              "        \n",
              "  <svg xmlns=\"http://www.w3.org/2000/svg\" height=\"24px\"viewBox=\"0 0 24 24\"\n",
              "       width=\"24px\">\n",
              "    <path d=\"M0 0h24v24H0V0z\" fill=\"none\"/>\n",
              "    <path d=\"M18.56 5.44l.94 2.06.94-2.06 2.06-.94-2.06-.94-.94-2.06-.94 2.06-2.06.94zm-11 1L8.5 8.5l.94-2.06 2.06-.94-2.06-.94L8.5 2.5l-.94 2.06-2.06.94zm10 10l.94 2.06.94-2.06 2.06-.94-2.06-.94-.94-2.06-.94 2.06-2.06.94z\"/><path d=\"M17.41 7.96l-1.37-1.37c-.4-.4-.92-.59-1.43-.59-.52 0-1.04.2-1.43.59L10.3 9.45l-7.72 7.72c-.78.78-.78 2.05 0 2.83L4 21.41c.39.39.9.59 1.41.59.51 0 1.02-.2 1.41-.59l7.78-7.78 2.81-2.81c.8-.78.8-2.07 0-2.86zM5.41 20L4 18.59l7.72-7.72 1.47 1.35L5.41 20z\"/>\n",
              "  </svg>\n",
              "      </button>\n",
              "      \n",
              "  <style>\n",
              "    .colab-df-container {\n",
              "      display:flex;\n",
              "      flex-wrap:wrap;\n",
              "      gap: 12px;\n",
              "    }\n",
              "\n",
              "    .colab-df-convert {\n",
              "      background-color: #E8F0FE;\n",
              "      border: none;\n",
              "      border-radius: 50%;\n",
              "      cursor: pointer;\n",
              "      display: none;\n",
              "      fill: #1967D2;\n",
              "      height: 32px;\n",
              "      padding: 0 0 0 0;\n",
              "      width: 32px;\n",
              "    }\n",
              "\n",
              "    .colab-df-convert:hover {\n",
              "      background-color: #E2EBFA;\n",
              "      box-shadow: 0px 1px 2px rgba(60, 64, 67, 0.3), 0px 1px 3px 1px rgba(60, 64, 67, 0.15);\n",
              "      fill: #174EA6;\n",
              "    }\n",
              "\n",
              "    [theme=dark] .colab-df-convert {\n",
              "      background-color: #3B4455;\n",
              "      fill: #D2E3FC;\n",
              "    }\n",
              "\n",
              "    [theme=dark] .colab-df-convert:hover {\n",
              "      background-color: #434B5C;\n",
              "      box-shadow: 0px 1px 3px 1px rgba(0, 0, 0, 0.15);\n",
              "      filter: drop-shadow(0px 1px 2px rgba(0, 0, 0, 0.3));\n",
              "      fill: #FFFFFF;\n",
              "    }\n",
              "  </style>\n",
              "\n",
              "      <script>\n",
              "        const buttonEl =\n",
              "          document.querySelector('#df-cf959f3c-327b-42c3-812f-36fe6f29401b button.colab-df-convert');\n",
              "        buttonEl.style.display =\n",
              "          google.colab.kernel.accessAllowed ? 'block' : 'none';\n",
              "\n",
              "        async function convertToInteractive(key) {\n",
              "          const element = document.querySelector('#df-cf959f3c-327b-42c3-812f-36fe6f29401b');\n",
              "          const dataTable =\n",
              "            await google.colab.kernel.invokeFunction('convertToInteractive',\n",
              "                                                     [key], {});\n",
              "          if (!dataTable) return;\n",
              "\n",
              "          const docLinkHtml = 'Like what you see? Visit the ' +\n",
              "            '<a target=\"_blank\" href=https://colab.research.google.com/notebooks/data_table.ipynb>data table notebook</a>'\n",
              "            + ' to learn more about interactive tables.';\n",
              "          element.innerHTML = '';\n",
              "          dataTable['output_type'] = 'display_data';\n",
              "          await google.colab.output.renderOutput(dataTable, element);\n",
              "          const docLink = document.createElement('div');\n",
              "          docLink.innerHTML = docLinkHtml;\n",
              "          element.appendChild(docLink);\n",
              "        }\n",
              "      </script>\n",
              "    </div>\n",
              "  </div>\n",
              "  "
            ]
          },
          "metadata": {},
          "execution_count": 3
        }
      ]
    },
    {
      "cell_type": "code",
      "source": [
        "traindf.drop(columns=['Serial No.'], inplace=True)"
      ],
      "metadata": {
        "id": "Cr8eaJOj-N_-"
      },
      "execution_count": 4,
      "outputs": []
    },
    {
      "cell_type": "code",
      "source": [
        "traindf.head()"
      ],
      "metadata": {
        "colab": {
          "base_uri": "https://localhost:8080/",
          "height": 206
        },
        "id": "JrxCjVc7-UaI",
        "outputId": "153be244-262d-4946-b0d6-fc6608a614e2"
      },
      "execution_count": 5,
      "outputs": [
        {
          "output_type": "execute_result",
          "data": {
            "text/plain": [
              "   GRE Score  TOEFL Score  University Rating  SOP  LOR   CGPA  Research  \\\n",
              "0        337          118                  4  4.5   4.5  9.65         1   \n",
              "1        324          107                  4  4.0   4.5  8.87         1   \n",
              "2        316          104                  3  3.0   3.5  8.00         1   \n",
              "3        322          110                  3  3.5   2.5  8.67         1   \n",
              "4        314          103                  2  2.0   3.0  8.21         0   \n",
              "\n",
              "   Chance of Admit   \n",
              "0              0.92  \n",
              "1              0.76  \n",
              "2              0.72  \n",
              "3              0.80  \n",
              "4              0.65  "
            ],
            "text/html": [
              "\n",
              "  <div id=\"df-381e9e52-36e7-4ef2-a847-0dbeff0b071b\">\n",
              "    <div class=\"colab-df-container\">\n",
              "      <div>\n",
              "<style scoped>\n",
              "    .dataframe tbody tr th:only-of-type {\n",
              "        vertical-align: middle;\n",
              "    }\n",
              "\n",
              "    .dataframe tbody tr th {\n",
              "        vertical-align: top;\n",
              "    }\n",
              "\n",
              "    .dataframe thead th {\n",
              "        text-align: right;\n",
              "    }\n",
              "</style>\n",
              "<table border=\"1\" class=\"dataframe\">\n",
              "  <thead>\n",
              "    <tr style=\"text-align: right;\">\n",
              "      <th></th>\n",
              "      <th>GRE Score</th>\n",
              "      <th>TOEFL Score</th>\n",
              "      <th>University Rating</th>\n",
              "      <th>SOP</th>\n",
              "      <th>LOR</th>\n",
              "      <th>CGPA</th>\n",
              "      <th>Research</th>\n",
              "      <th>Chance of Admit</th>\n",
              "    </tr>\n",
              "  </thead>\n",
              "  <tbody>\n",
              "    <tr>\n",
              "      <th>0</th>\n",
              "      <td>337</td>\n",
              "      <td>118</td>\n",
              "      <td>4</td>\n",
              "      <td>4.5</td>\n",
              "      <td>4.5</td>\n",
              "      <td>9.65</td>\n",
              "      <td>1</td>\n",
              "      <td>0.92</td>\n",
              "    </tr>\n",
              "    <tr>\n",
              "      <th>1</th>\n",
              "      <td>324</td>\n",
              "      <td>107</td>\n",
              "      <td>4</td>\n",
              "      <td>4.0</td>\n",
              "      <td>4.5</td>\n",
              "      <td>8.87</td>\n",
              "      <td>1</td>\n",
              "      <td>0.76</td>\n",
              "    </tr>\n",
              "    <tr>\n",
              "      <th>2</th>\n",
              "      <td>316</td>\n",
              "      <td>104</td>\n",
              "      <td>3</td>\n",
              "      <td>3.0</td>\n",
              "      <td>3.5</td>\n",
              "      <td>8.00</td>\n",
              "      <td>1</td>\n",
              "      <td>0.72</td>\n",
              "    </tr>\n",
              "    <tr>\n",
              "      <th>3</th>\n",
              "      <td>322</td>\n",
              "      <td>110</td>\n",
              "      <td>3</td>\n",
              "      <td>3.5</td>\n",
              "      <td>2.5</td>\n",
              "      <td>8.67</td>\n",
              "      <td>1</td>\n",
              "      <td>0.80</td>\n",
              "    </tr>\n",
              "    <tr>\n",
              "      <th>4</th>\n",
              "      <td>314</td>\n",
              "      <td>103</td>\n",
              "      <td>2</td>\n",
              "      <td>2.0</td>\n",
              "      <td>3.0</td>\n",
              "      <td>8.21</td>\n",
              "      <td>0</td>\n",
              "      <td>0.65</td>\n",
              "    </tr>\n",
              "  </tbody>\n",
              "</table>\n",
              "</div>\n",
              "      <button class=\"colab-df-convert\" onclick=\"convertToInteractive('df-381e9e52-36e7-4ef2-a847-0dbeff0b071b')\"\n",
              "              title=\"Convert this dataframe to an interactive table.\"\n",
              "              style=\"display:none;\">\n",
              "        \n",
              "  <svg xmlns=\"http://www.w3.org/2000/svg\" height=\"24px\"viewBox=\"0 0 24 24\"\n",
              "       width=\"24px\">\n",
              "    <path d=\"M0 0h24v24H0V0z\" fill=\"none\"/>\n",
              "    <path d=\"M18.56 5.44l.94 2.06.94-2.06 2.06-.94-2.06-.94-.94-2.06-.94 2.06-2.06.94zm-11 1L8.5 8.5l.94-2.06 2.06-.94-2.06-.94L8.5 2.5l-.94 2.06-2.06.94zm10 10l.94 2.06.94-2.06 2.06-.94-2.06-.94-.94-2.06-.94 2.06-2.06.94z\"/><path d=\"M17.41 7.96l-1.37-1.37c-.4-.4-.92-.59-1.43-.59-.52 0-1.04.2-1.43.59L10.3 9.45l-7.72 7.72c-.78.78-.78 2.05 0 2.83L4 21.41c.39.39.9.59 1.41.59.51 0 1.02-.2 1.41-.59l7.78-7.78 2.81-2.81c.8-.78.8-2.07 0-2.86zM5.41 20L4 18.59l7.72-7.72 1.47 1.35L5.41 20z\"/>\n",
              "  </svg>\n",
              "      </button>\n",
              "      \n",
              "  <style>\n",
              "    .colab-df-container {\n",
              "      display:flex;\n",
              "      flex-wrap:wrap;\n",
              "      gap: 12px;\n",
              "    }\n",
              "\n",
              "    .colab-df-convert {\n",
              "      background-color: #E8F0FE;\n",
              "      border: none;\n",
              "      border-radius: 50%;\n",
              "      cursor: pointer;\n",
              "      display: none;\n",
              "      fill: #1967D2;\n",
              "      height: 32px;\n",
              "      padding: 0 0 0 0;\n",
              "      width: 32px;\n",
              "    }\n",
              "\n",
              "    .colab-df-convert:hover {\n",
              "      background-color: #E2EBFA;\n",
              "      box-shadow: 0px 1px 2px rgba(60, 64, 67, 0.3), 0px 1px 3px 1px rgba(60, 64, 67, 0.15);\n",
              "      fill: #174EA6;\n",
              "    }\n",
              "\n",
              "    [theme=dark] .colab-df-convert {\n",
              "      background-color: #3B4455;\n",
              "      fill: #D2E3FC;\n",
              "    }\n",
              "\n",
              "    [theme=dark] .colab-df-convert:hover {\n",
              "      background-color: #434B5C;\n",
              "      box-shadow: 0px 1px 3px 1px rgba(0, 0, 0, 0.15);\n",
              "      filter: drop-shadow(0px 1px 2px rgba(0, 0, 0, 0.3));\n",
              "      fill: #FFFFFF;\n",
              "    }\n",
              "  </style>\n",
              "\n",
              "      <script>\n",
              "        const buttonEl =\n",
              "          document.querySelector('#df-381e9e52-36e7-4ef2-a847-0dbeff0b071b button.colab-df-convert');\n",
              "        buttonEl.style.display =\n",
              "          google.colab.kernel.accessAllowed ? 'block' : 'none';\n",
              "\n",
              "        async function convertToInteractive(key) {\n",
              "          const element = document.querySelector('#df-381e9e52-36e7-4ef2-a847-0dbeff0b071b');\n",
              "          const dataTable =\n",
              "            await google.colab.kernel.invokeFunction('convertToInteractive',\n",
              "                                                     [key], {});\n",
              "          if (!dataTable) return;\n",
              "\n",
              "          const docLinkHtml = 'Like what you see? Visit the ' +\n",
              "            '<a target=\"_blank\" href=https://colab.research.google.com/notebooks/data_table.ipynb>data table notebook</a>'\n",
              "            + ' to learn more about interactive tables.';\n",
              "          element.innerHTML = '';\n",
              "          dataTable['output_type'] = 'display_data';\n",
              "          await google.colab.output.renderOutput(dataTable, element);\n",
              "          const docLink = document.createElement('div');\n",
              "          docLink.innerHTML = docLinkHtml;\n",
              "          element.appendChild(docLink);\n",
              "        }\n",
              "      </script>\n",
              "    </div>\n",
              "  </div>\n",
              "  "
            ]
          },
          "metadata": {},
          "execution_count": 5
        }
      ]
    },
    {
      "cell_type": "code",
      "source": [
        "y = traindf.iloc[:, -1]"
      ],
      "metadata": {
        "id": "WycbRLwy-sOW"
      },
      "execution_count": 26,
      "outputs": []
    },
    {
      "cell_type": "code",
      "source": [
        "X = traindf.iloc[:, :-1]"
      ],
      "metadata": {
        "id": "FZAcFWIqBNdQ"
      },
      "execution_count": 27,
      "outputs": []
    },
    {
      "cell_type": "code",
      "source": [
        "from sklearn.model_selection import train_test_split\n",
        "\n",
        "X_train, X_test, y_train, y_test = train_test_split(X, y, test_size=0.2, random_state=24)\n"
      ],
      "metadata": {
        "id": "wDl4rlRH-VSv"
      },
      "execution_count": 28,
      "outputs": []
    },
    {
      "cell_type": "code",
      "source": [
        "X_train.shape"
      ],
      "metadata": {
        "colab": {
          "base_uri": "https://localhost:8080/"
        },
        "id": "1oYMNzQdCURI",
        "outputId": "a33b8b1f-254f-433a-e59c-8dfa7d09588f"
      },
      "execution_count": 34,
      "outputs": [
        {
          "output_type": "execute_result",
          "data": {
            "text/plain": [
              "(320, 7)"
            ]
          },
          "metadata": {},
          "execution_count": 34
        }
      ]
    },
    {
      "cell_type": "code",
      "source": [
        "X_test.shape"
      ],
      "metadata": {
        "colab": {
          "base_uri": "https://localhost:8080/"
        },
        "id": "liwqUdU8CXJ4",
        "outputId": "e7aea97d-cf30-49b3-e0e6-08153936166d"
      },
      "execution_count": 35,
      "outputs": [
        {
          "output_type": "execute_result",
          "data": {
            "text/plain": [
              "(80, 7)"
            ]
          },
          "metadata": {},
          "execution_count": 35
        }
      ]
    },
    {
      "cell_type": "code",
      "source": [
        "from sklearn.preprocessing import MinMaxScaler\n",
        "\n",
        "scaler = MinMaxScaler()\n"
      ],
      "metadata": {
        "id": "AdFo5roE-na_"
      },
      "execution_count": 29,
      "outputs": []
    },
    {
      "cell_type": "code",
      "source": [
        "X_train_scaled = scaler.fit_transform(X_train)\n",
        "X_test_scaled = scaler.transform(X_test)"
      ],
      "metadata": {
        "id": "Qc4rIhTECFJB"
      },
      "execution_count": 31,
      "outputs": []
    },
    {
      "cell_type": "code",
      "source": [
        "X_train_scaled"
      ],
      "metadata": {
        "colab": {
          "base_uri": "https://localhost:8080/"
        },
        "id": "WqljI5qzCPvA",
        "outputId": "a8ea448c-7a24-4600-c191-8e6fcecd9e77"
      },
      "execution_count": 38,
      "outputs": [
        {
          "output_type": "execute_result",
          "data": {
            "text/plain": [
              "array([[0.52      , 0.64285714, 0.5       , ..., 0.875     , 0.63461538,\n",
              "        1.        ],\n",
              "       [0.58      , 0.5       , 0.5       , ..., 0.5       , 0.38461538,\n",
              "        1.        ],\n",
              "       [0.7       , 0.67857143, 0.5       , ..., 0.625     , 0.60897436,\n",
              "        0.        ],\n",
              "       ...,\n",
              "       [0.3       , 0.39285714, 0.25      , ..., 0.625     , 0.42628205,\n",
              "        0.        ],\n",
              "       [0.64      , 0.78571429, 1.        , ..., 0.75      , 0.68589744,\n",
              "        1.        ],\n",
              "       [0.34      , 0.46428571, 0.25      , ..., 0.625     , 0.41666667,\n",
              "        0.        ]])"
            ]
          },
          "metadata": {},
          "execution_count": 38
        }
      ]
    },
    {
      "cell_type": "code",
      "source": [
        "X_test_scaled"
      ],
      "metadata": {
        "colab": {
          "base_uri": "https://localhost:8080/"
        },
        "id": "fsxZ_OZ6CKMA",
        "outputId": "48aeccd4-6675-46bb-f535-3cfd50252f5e"
      },
      "execution_count": 40,
      "outputs": [
        {
          "output_type": "execute_result",
          "data": {
            "text/plain": [
              "array([[0.4       , 0.5       , 0.75      , 0.875     , 0.875     ,\n",
              "        0.71794872, 1.        ],\n",
              "       [0.54      , 0.53571429, 0.5       , 0.625     , 0.5       ,\n",
              "        0.6025641 , 1.        ],\n",
              "       [0.6       , 0.42857143, 0.5       , 0.625     , 0.875     ,\n",
              "        0.49358974, 1.        ],\n",
              "       [1.        , 1.        , 0.75      , 1.        , 1.        ,\n",
              "        0.86538462, 1.        ],\n",
              "       [0.3       , 0.46428571, 0.25      , 0.5       , 0.75      ,\n",
              "        0.42628205, 0.        ],\n",
              "       [0.22      , 0.42857143, 0.25      , 0.625     , 0.625     ,\n",
              "        0.34935897, 1.        ],\n",
              "       [0.74      , 0.71428571, 0.5       , 0.5       , 0.5       ,\n",
              "        0.61538462, 1.        ],\n",
              "       [0.34      , 0.35714286, 0.5       , 0.5       , 0.5       ,\n",
              "        0.47115385, 0.        ],\n",
              "       [0.68      , 0.71428571, 0.75      , 0.75      , 0.625     ,\n",
              "        0.63141026, 1.        ],\n",
              "       [0.62      , 0.64285714, 0.5       , 0.625     , 1.        ,\n",
              "        0.65705128, 1.        ],\n",
              "       [0.5       , 0.25      , 0.25      , 0.625     , 0.5       ,\n",
              "        0.34935897, 0.        ],\n",
              "       [0.56      , 0.60714286, 0.5       , 0.5       , 0.5       ,\n",
              "        0.54487179, 0.        ],\n",
              "       [0.44      , 0.39285714, 0.5       , 1.        , 0.75      ,\n",
              "        0.52884615, 0.        ],\n",
              "       [0.74      , 0.39285714, 0.5       , 0.75      , 0.75      ,\n",
              "        0.48076923, 1.        ],\n",
              "       [0.76      , 0.85714286, 1.        , 1.        , 1.        ,\n",
              "        0.86538462, 1.        ],\n",
              "       [0.62      , 0.60714286, 0.5       , 0.5       , 0.75      ,\n",
              "        0.44871795, 1.        ],\n",
              "       [0.62      , 0.53571429, 0.25      , 0.25      , 0.125     ,\n",
              "        0.52564103, 0.        ],\n",
              "       [0.52      , 0.32142857, 0.25      , 0.375     , 0.25      ,\n",
              "        0.48717949, 1.        ],\n",
              "       [0.82      , 0.82142857, 1.        , 0.875     , 0.625     ,\n",
              "        0.82051282, 1.        ],\n",
              "       [0.2       , 0.28571429, 0.5       , 0.25      , 0.5       ,\n",
              "        0.59615385, 1.        ],\n",
              "       [0.64      , 0.53571429, 0.5       , 0.625     , 0.625     ,\n",
              "        0.53205128, 1.        ],\n",
              "       [0.34      , 0.32142857, 0.5       , 0.75      , 0.5       ,\n",
              "        0.44871795, 0.        ],\n",
              "       [0.2       , 0.46428571, 0.        , 0.        , 0.25      ,\n",
              "        0.32051282, 0.        ],\n",
              "       [0.18      , 0.28571429, 0.        , 0.125     , 0.25      ,\n",
              "        0.34935897, 0.        ],\n",
              "       [0.26      , 0.35714286, 0.5       , 0.625     , 0.5       ,\n",
              "        0.54487179, 0.        ],\n",
              "       [0.72      , 0.75      , 1.        , 0.875     , 0.75      ,\n",
              "        0.83333333, 1.        ],\n",
              "       [0.48      , 0.57142857, 0.5       , 0.875     , 0.625     ,\n",
              "        0.42948718, 0.        ],\n",
              "       [0.        , 0.28571429, 0.        , 0.125     , 0.25      ,\n",
              "        0.24358974, 0.        ],\n",
              "       [0.44      , 0.42857143, 0.5       , 0.625     , 0.625     ,\n",
              "        0.51923077, 0.        ],\n",
              "       [0.4       , 0.25      , 0.25      , 0.125     , 0.25      ,\n",
              "        0.16025641, 0.        ],\n",
              "       [0.88      , 0.78571429, 0.75      , 0.75      , 0.75      ,\n",
              "        0.84294872, 1.        ],\n",
              "       [1.        , 1.        , 1.        , 0.875     , 0.875     ,\n",
              "        0.8974359 , 1.        ],\n",
              "       [0.94      , 0.92857143, 0.75      , 0.875     , 0.875     ,\n",
              "        0.91346154, 1.        ],\n",
              "       [0.1       , 0.25      , 0.25      , 0.375     , 0.5       ,\n",
              "        0.2724359 , 0.        ],\n",
              "       [0.52      , 0.5       , 0.25      , 0.375     , 0.75      ,\n",
              "        0.48717949, 0.        ],\n",
              "       [0.54      , 0.28571429, 0.25      , 0.5       , 0.375     ,\n",
              "        0.56730769, 0.        ],\n",
              "       [0.68      , 0.67857143, 0.5       , 0.375     , 0.25      ,\n",
              "        0.64102564, 1.        ],\n",
              "       [0.64      , 0.64285714, 1.        , 0.875     , 0.75      ,\n",
              "        0.69551282, 0.        ],\n",
              "       [0.44      , 0.53571429, 0.5       , 0.5       , 0.5       ,\n",
              "        0.53205128, 1.        ],\n",
              "       [0.64      , 0.64285714, 0.5       , 0.75      , 1.        ,\n",
              "        0.58974359, 1.        ],\n",
              "       [0.44      , 0.60714286, 0.5       , 0.5       , 0.5       ,\n",
              "        0.60576923, 0.        ],\n",
              "       [0.62      , 0.60714286, 0.5       , 0.625     , 0.625     ,\n",
              "        0.64102564, 1.        ],\n",
              "       [0.9       , 0.92857143, 1.        , 0.875     , 0.625     ,\n",
              "        0.84615385, 1.        ],\n",
              "       [0.54      , 0.5       , 0.5       , 0.75      , 0.625     ,\n",
              "        0.54487179, 1.        ],\n",
              "       [0.72      , 0.67857143, 1.        , 0.875     , 0.75      ,\n",
              "        0.77884615, 1.        ],\n",
              "       [0.68      , 0.53571429, 1.        , 0.625     , 0.75      ,\n",
              "        0.59615385, 1.        ],\n",
              "       [0.46      , 0.5       , 0.25      , 0.375     , 0.25      ,\n",
              "        0.5224359 , 0.        ],\n",
              "       [0.7       , 0.53571429, 0.5       , 0.5       , 0.625     ,\n",
              "        0.74038462, 1.        ],\n",
              "       [0.56      , 0.28571429, 0.25      , 0.375     , 0.625     ,\n",
              "        0.55769231, 1.        ],\n",
              "       [0.44      , 0.53571429, 0.75      , 0.875     , 0.75      ,\n",
              "        0.59294872, 1.        ],\n",
              "       [0.5       , 0.42857143, 0.5       , 0.5       , 0.375     ,\n",
              "        0.49038462, 0.        ],\n",
              "       [0.56      , 0.53571429, 0.5       , 0.5       , 0.625     ,\n",
              "        0.47115385, 1.        ],\n",
              "       [0.42      , 0.42857143, 0.25      , 0.375     , 0.625     ,\n",
              "        0.53846154, 0.        ],\n",
              "       [0.58      , 0.64285714, 0.5       , 0.625     , 0.625     ,\n",
              "        0.71794872, 0.        ],\n",
              "       [0.46      , 0.39285714, 0.5       , 0.75      , 0.75      ,\n",
              "        0.625     , 0.        ],\n",
              "       [0.22      , 0.28571429, 0.5       , 0.625     , 0.5       ,\n",
              "        0.3974359 , 0.        ],\n",
              "       [0.4       , 0.53571429, 0.5       , 0.625     , 0.625     ,\n",
              "        0.59935897, 0.        ],\n",
              "       [0.74      , 0.75      , 0.75      , 0.875     , 0.875     ,\n",
              "        0.74038462, 1.        ],\n",
              "       [0.42      , 0.46428571, 0.5       , 0.625     , 0.5       ,\n",
              "        0.52884615, 1.        ],\n",
              "       [0.48      , 0.64285714, 0.5       , 0.75      , 0.75      ,\n",
              "        0.64102564, 0.        ],\n",
              "       [0.58      , 0.71428571, 0.5       , 0.375     , 0.25      ,\n",
              "        0.61217949, 1.        ],\n",
              "       [0.78      , 0.78571429, 1.        , 0.75      , 1.        ,\n",
              "        0.80128205, 1.        ],\n",
              "       [0.1       , 0.32142857, 0.25      , 0.375     , 0.25      ,\n",
              "        0.33974359, 0.        ],\n",
              "       [0.62      , 0.71428571, 1.        , 1.        , 1.        ,\n",
              "        0.72435897, 1.        ],\n",
              "       [0.5       , 0.46428571, 0.25      , 0.25      , 0.375     ,\n",
              "        0.2724359 , 0.        ],\n",
              "       [0.72      , 0.57142857, 0.5       , 0.5       , 0.625     ,\n",
              "        0.66987179, 0.        ],\n",
              "       [0.68      , 0.78571429, 1.        , 1.        , 0.875     ,\n",
              "        0.73076923, 1.        ],\n",
              "       [0.62      , 0.67857143, 1.        , 1.        , 1.        ,\n",
              "        0.84935897, 1.        ],\n",
              "       [0.12      , 0.25      , 0.25      , 0.5       , 0.625     ,\n",
              "        0.15384615, 0.        ],\n",
              "       [0.54      , 0.53571429, 0.5       , 0.75      , 0.5       ,\n",
              "        0.60897436, 0.        ],\n",
              "       [0.84      , 0.92857143, 1.        , 1.        , 1.        ,\n",
              "        0.91025641, 1.        ],\n",
              "       [0.48      , 0.46428571, 0.5       , 0.625     , 0.375     ,\n",
              "        0.48076923, 0.        ],\n",
              "       [0.62      , 0.60714286, 0.75      , 0.75      , 0.75      ,\n",
              "        0.6025641 , 1.        ],\n",
              "       [0.72      , 0.71428571, 0.5       , 0.625     , 0.5       ,\n",
              "        0.72115385, 1.        ],\n",
              "       [0.22      , 0.25      , 0.25      , 0.5       , 0.25      ,\n",
              "        0.45512821, 0.        ],\n",
              "       [0.46      , 0.42857143, 0.5       , 0.75      , 0.875     ,\n",
              "        0.59294872, 0.        ],\n",
              "       [0.3       , 0.71428571, 0.5       , 0.5       , 0.625     ,\n",
              "        0.59294872, 0.        ],\n",
              "       [0.6       , 0.64285714, 1.        , 1.        , 0.875     ,\n",
              "        0.77564103, 1.        ],\n",
              "       [0.68      , 0.28571429, 0.5       , 0.75      , 1.        ,\n",
              "        0.58974359, 1.        ],\n",
              "       [0.48      , 0.53571429, 0.5       , 0.5       , 0.625     ,\n",
              "        0.43910256, 1.        ]])"
            ]
          },
          "metadata": {},
          "execution_count": 40
        }
      ]
    },
    {
      "cell_type": "code",
      "source": [],
      "metadata": {
        "id": "Ni8a7QW_CguJ"
      },
      "execution_count": null,
      "outputs": []
    }
  ]
}